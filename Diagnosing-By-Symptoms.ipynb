{
  "nbformat": 4,
  "nbformat_minor": 0,
  "metadata": {
    "colab": {
      "name": "Diagnosing-By-Symptoms.ipynb",
      "provenance": [],
      "collapsed_sections": []
    },
    "kernelspec": {
      "name": "python3",
      "display_name": "Python 3"
    },
    "language_info": {
      "name": "python"
    },
    "accelerator": "GPU"
  },
  "cells": [
    {
      "cell_type": "code",
      "metadata": {
        "colab": {
          "base_uri": "https://localhost:8080/"
        },
        "id": "N2GVerVn3X49",
        "outputId": "5dbcefe2-8f46-4f62-dc35-45c7f3ee47fe"
      },
      "source": [
        "from google.colab import drive\n",
        "drive.mount('/content/d')"
      ],
      "execution_count": null,
      "outputs": [
        {
          "output_type": "stream",
          "text": [
            "Mounted at /content/d\n"
          ],
          "name": "stdout"
        }
      ]
    },
    {
      "cell_type": "code",
      "metadata": {
        "id": "I8Exxbja3e8x"
      },
      "source": [
        "import os\n",
        "import pandas as pd\n",
        "import numpy as np\n",
        "import matplotlib.pyplot as plt\n",
        "\n",
        "from sklearn.preprocessing import LabelEncoder\n",
        "from sklearn.model_selection import train_test_split\n",
        "\n",
        "from tensorflow.keras.preprocessing.text import Tokenizer \n",
        "from tensorflow.keras import utils\n",
        "from tensorflow.keras.models import Sequential\n",
        "from tensorflow.keras.layers import Embedding, SpatialDropout1D, BatchNormalization, Dense, Dropout, Flatten\n",
        "from tensorflow.keras.layers import SimpleRNN, GRU, LSTM, Bidirectional\n",
        "from tensorflow.keras.layers import Conv1D, MaxPooling1D\n",
        "from tensorflow.keras.preprocessing.sequence import pad_sequences\n",
        "\n",
        "RANDOM_STATE = 42"
      ],
      "execution_count": null,
      "outputs": []
    },
    {
      "cell_type": "markdown",
      "metadata": {
        "id": "lcHPrfcHgjhb"
      },
      "source": [
        "<ins>**PROBLEM SETTING**</ins> This small dataset contains symptoms records for 10 deseases. The task is to predict a desease based on the a patient's description of his codition."
      ]
    },
    {
      "cell_type": "code",
      "metadata": {
        "colab": {
          "base_uri": "https://localhost:8080/"
        },
        "id": "s9ASdfHjz91u",
        "outputId": "bacad22f-a644-462f-f1a4-efd462f7daa1"
      },
      "source": [
        "!unzip 'd/My Drive/nn/_5/diagnosis.zip'"
      ],
      "execution_count": null,
      "outputs": [
        {
          "output_type": "stream",
          "text": [
            "Archive:  d/My Drive/nn/_5/diagnosis.zip\n",
            "  inflating: Болезни/Дуоденит.txt  \n",
            "  inflating: Болезни/Эзофагит.txt  \n",
            "  inflating: Болезни/Аппендицит.txt  \n",
            "  inflating: Болезни/Гепатит.txt  \n",
            "  inflating: Болезни/Энтерит.txt  \n",
            "  inflating: Болезни/Панкреатит.txt  \n",
            "  inflating: Болезни/Колит.txt  \n",
            "  inflating: Болезни/Гастрит.txt  \n",
            "  inflating: Болезни/Язва.txt  \n",
            "  inflating: Болезни/Холицестит.txt  \n"
          ],
          "name": "stdout"
        }
      ]
    },
    {
      "cell_type": "markdown",
      "metadata": {
        "id": "7q9wKfLLpvgD"
      },
      "source": [
        "Example of what a file contains:"
      ]
    },
    {
      "cell_type": "code",
      "metadata": {
        "id": "YFOoEz5q2iRl",
        "colab": {
          "base_uri": "https://localhost:8080/"
        },
        "outputId": "960b0d19-d0ac-4ec6-f5a1-b61b47563f9c"
      },
      "source": [
        "!cat 'Болезни/Дуоденит.txt'"
      ],
      "execution_count": null,
      "outputs": [
        {
          "output_type": "stream",
          "text": [
            "боль в эпигастральной области,\r\n",
            "тошнота,\r\n",
            "рвота, \r\n",
            "общая слабость, \r\n",
            "болезненность при пальпации в эпигастральной области, \r\n",
            "слабость,\r\n",
            "повышение температуры. \r\n",
            "\r\n",
            "дискомфорт и боль в верхних отделах живота,\r\n",
            "повышенная утомляемость, \r\n",
            "снижение физических и умственных способностей,\r\n",
            "раздражительность,\r\n",
            "слабость,\r\n",
            "капризность, \r\n",
            "головокружения,\r\n",
            "боль в голове,\r\n",
            "тошнота,\r\n",
            "рвота,\r\n",
            "отрыжка, \r\n",
            "Учащенное сердцебиение,\r\n",
            "снижение аппетита,\r\n",
            "метеоризм,\r\n",
            "вздутие живота\r\n",
            "\r\n",
            "боль в эпигастральной области,\r\n",
            "тошнота,\r\n",
            "рвота, \r\n",
            "общая слабость, \r\n",
            "болезненность при пальпации в эпигастральной области\r\n",
            "\r\n",
            "сильная тошнота, \r\n",
            "частая и обильная рвота,\r\n",
            "слабость\r\n",
            "быстрая утомляемость, \r\n",
            "боль в подложечной области\r\n",
            "\r\n",
            "\r\n",
            "боль или чувство дискомфорта в области желудка, \r\n",
            "тошнота и рвота;\r\n",
            "потеря аппетита;\r\n",
            "желудочные кровотечения\r\n",
            "\r\n",
            "\r\n",
            "Болевые ощущения в подложечной области;\r\n",
            "Быстрая утомляемость,\r\n",
            "слабость, \r\n",
            "головокружение;\r\n",
            "Повышение температуры;\r\n",
            "Отсутствие аппетита;\r\n",
            "Неприятный привкус во рту;\r\n",
            "Тошнота,\r\n",
            "газообразование, \r\n",
            "чувство переполненного желудка;\r\n",
            "Нарушение стула: диарея или запор;\r\n",
            "Отрыжка,\r\n",
            "рвота с примесью желчи;\r\n",
            "Желтизна кожных покровов и белов глаз\r\n",
            "\r\n",
            "боли в эпигастральной области (голодные, ночные, через 15-20 минут или 1-1,5 часа после еды);\r\n",
            "повышенное газообразование;\r\n",
            "изжога,\r\n",
            "отрыжка с горьким привкусом, \r\n",
            "горечь во рту;\r\n",
            "плохой аппетит или его полное отсутствие;\r\n",
            "ощущение тяжести после еды;\r\n",
            "боли схваткообразного и распирающего характера, связанные с приемом пищи;\r\n",
            "тошнота и рвота;\r\n",
            "напряжение передней брюшной стенки.\r\n",
            "\r\n",
            "снижение аппетита;\r\n",
            "рвота (может быть однократной или многократной, облегчает состояние);\r\n",
            "тошнота (возникает сразу после еды);\r\n",
            "изжога,\r\n",
            "вздутие;\r\n",
            "напряжение мышц живота;\r\n",
            "продолжительная икота (около получаса);\r\n",
            "горькая отрыжка;\r\n",
            "повышение температуры тела;\r\n",
            "кровотечения из ЖКТ, обусловленные повреждением стенок кишечника.\r\n",
            "\r\n",
            "ухудшение аппетита,\r\n",
            "появление неустойчивого стула,склонного к послаблению, \r\n",
            "отрыжка, \r\n",
            "изжога\r\n",
            "\r\n",
            "тошнота \r\n",
            "боли вверху живота.\r\n",
            "\r\n",
            "боль в верхнем отделе живота, особенно в состоянии голода и в ночное время;\r\n",
            "нарушения пищеварения (диареи, запоры);\r\n",
            "вздутие, урчание, метеоризм;\r\n",
            "«горькая» отрыжка, непрекращающаяся икота;\r\n",
            "тошнота, редко — рвота;\r\n",
            "изжога, дискомфорт.\r\n",
            "\r\n",
            "общая слабость, \r\n",
            "боли в области желудка, \r\n",
            "изжога,\r\n",
            "отрыжка,\r\n",
            "тошнота,\r\n",
            "рвота.\r\n",
            "\r\n",
            "Боли в эпигастрии, связанные с приемом пищи (до еды или после), \r\n",
            "тяжесть в эпигастрии после еды, \r\n",
            "раннее насыщение,\r\n",
            "ухудшение аппетита, \r\n",
            "тошнота,\r\n",
            "отрыжка.\r\n",
            "\r\n",
            "голодные боли,\r\n",
            "боли после сна.\r\n",
            "\r\n",
            "боли в подложечной области,\r\n",
            "неприятный вкус во рту,\r\n",
            "общий дискомфорт,\r\n",
            "тошнота,\r\n",
            "рвота,\r\n",
            "обильное слюнотечение,\r\n",
            "головная боль,\r\n",
            "общая слабость.\r\n",
            "\r\n",
            "боль в эпигастральной области,\r\n",
            "тошнота,\r\n",
            "рвота,\r\n",
            "общая слабость,\r\n",
            "повышение температуры,\r\n",
            "болезненность при пальпации в эпигастральной области.\r\n",
            "\r\n",
            "ощущение распирания «под ложечкой»,\r\n",
            "во рту появляется горький привкус,\r\n",
            "снижается аппетит,\r\n",
            "появляется повышенное слюноотделение,\r\n",
            "отрыжка,\r\n",
            "рвота и изжога.\r\n",
            "запоры.\r\n",
            "\r\n",
            "болезненность в области эпигастрия натощак\r\n",
            "- боли в животе через два-три часа после еды\r\n",
            "- боли в ночное время\r\n",
            "- стул нормальный или склонность к запору\r\n",
            "- язык обложен белым налетом\r\n",
            "- отмечается слюнотечение\r\n",
            "- распирание в облсти эпигастрия\r\n",
            "- снижение аппетита вплоть до полного отсутствия\r\n",
            "- повышение температуры\r\n",
            "- головные боли, слабость\r\n",
            "- понижение давления.\r\n",
            "\r\n",
            "\r\n",
            "боли\r\n",
            "чувство полноты и распирания в эпигастральной области\r\n",
            "отсутствие аппетита\r\n",
            "приступы слюнотечения\r\n",
            "тошнота\r\n",
            "рвота\r\n",
            "\r\n",
            "\r\n",
            "боль в эпигастральной области,\r\n",
            "тошнота,\r\n",
            "рвота\r\n",
            "общая слабость,\r\n",
            "болезненность при пальпации в эпигастральной области\r\n",
            "\r\n",
            "боль в эпигастральной области,\r\n",
            "тошнота,\r\n",
            "рвота,\r\n",
            "общая слабость\r\n",
            "\r\n",
            "боль под ложечкой различной интенсивности,в разное время суток,в том числе \"голодные\", ночные, могут быть постоянными в виде распирания и тяжести, \r\n",
            "тошнота,\r\n",
            "склонность к запорам, \r\n",
            "изжога, \r\n",
            "отрыжка воздухом\r\n",
            "\r\n",
            "\r\n",
            "ноющая реже схваткообразную боль в эпигастрии,через 1—2 часа после приема пищи\r\n",
            "ощущение тяжести,\r\n",
            "распирания в подложечной области, \r\n",
            "тошнота, \r\n",
            "слюноотделением\r\n",
            "Иррадиация болей — в подреберье, околопупочную область\r\n",
            "\r\n",
            "\r\n",
            "\r\n",
            "\r\n"
          ],
          "name": "stdout"
        }
      ]
    },
    {
      "cell_type": "code",
      "metadata": {
        "id": "doVRapzs4K11"
      },
      "source": [
        "MAX_WORDS_COUNT = 2000\n",
        "MAX_LEN = 15\n",
        "SYMBOLS_TO_FILTER = '!\"#$%&()*+,-./:;<=>?@[\\\\]^_`{|}~\\t\\n'\n",
        "BATCH_SIZE = 3"
      ],
      "execution_count": null,
      "outputs": []
    },
    {
      "cell_type": "markdown",
      "metadata": {
        "id": "tMmoc-v6rqlY"
      },
      "source": [
        "### TEXT PRERPOCESSING\n",
        "\n",
        "1. Collect texts from the dataset:"
      ]
    },
    {
      "cell_type": "code",
      "metadata": {
        "colab": {
          "base_uri": "https://localhost:8080/"
        },
        "id": "UloIuxnR7UqT",
        "outputId": "63ddd7bd-8dc0-45e3-9dba-ffcaeb95e27a"
      },
      "source": [
        "inputFolder = 'Болезни/'\n",
        "\n",
        "# collect the deseases names\n",
        "labelNames = [fl.split('.')[0] for fl in os.listdir(inputFolder)]\n",
        "\n",
        "def splitList(myList, delim):\n",
        "    '''\n",
        "    get each record from a single file\n",
        "    that is separated by some delimeter\n",
        "    '''\n",
        "    res, subl = [], []\n",
        "    for item in myList:\n",
        "        if item in delim:\n",
        "            res.append(subl)\n",
        "            subl = []\n",
        "        else:\n",
        "            subl.append(item)\n",
        "    if subl:\n",
        "        res.append(subl)\n",
        "\n",
        "    return res\n",
        "\n",
        "def getData(labelNames, inputFolder):\n",
        "    '''\n",
        "    collect the data to list and split\n",
        "    to features (texts) and labels (desease)\n",
        "    '''\n",
        "    data = {}\n",
        "    for diag in labelNames:\n",
        "        with open(inputFolder + diag + '.txt') as fl:\n",
        "            contents = fl.readlines()\n",
        "            data[f'{diag}'] = splitList(contents, \", '\\n\")\n",
        "            data[diag] = [i for i in data[diag] if i != []] # drop empty records\n",
        "        print(f'{diag} contains {len(data[diag])} records')\n",
        "\n",
        "    texts, labels = [], []\n",
        "    for k, v in data.items():\n",
        "        for rec in v:\n",
        "            texts.append(rec)\n",
        "            labels.append(k)\n",
        "\n",
        "    return data, texts, labels\n",
        "\n",
        "data, texts, labels = getData(labelNames, inputFolder)\n",
        "\n",
        "print(f'in total {len(texts)} records with {len(labels)} labels')"
      ],
      "execution_count": null,
      "outputs": [
        {
          "output_type": "stream",
          "text": [
            "Язва contains 21 records\n",
            "Гепатит contains 24 records\n",
            "Дуоденит contains 23 records\n",
            "Колит contains 44 records\n",
            "Гастрит contains 15 records\n",
            "Эзофагит contains 31 records\n",
            "Энтерит contains 18 records\n",
            "Аппендицит contains 21 records\n",
            "Панкреатит contains 31 records\n",
            "Холицестит contains 23 records\n",
            "in total 251 records with 251 labels\n"
          ],
          "name": "stdout"
        }
      ]
    },
    {
      "cell_type": "markdown",
      "metadata": {
        "id": "vbZ5FvSZ0954"
      },
      "source": [
        "The texts are quite messy:"
      ]
    },
    {
      "cell_type": "code",
      "metadata": {
        "colab": {
          "base_uri": "https://localhost:8080/"
        },
        "id": "BiDZnwjlzsj6",
        "outputId": "e1895e04-48c8-45b7-8370-ced9aa8fb781"
      },
      "source": [
        "print(texts[3])"
      ],
      "execution_count": null,
      "outputs": [
        {
          "output_type": "stream",
          "text": [
            "['боль в животе\\n', 'Боль возникает в середине живота («под ложечкой»), никуда, как правило, не отдает\\n', 'Болевой синдром. Возникает в верхней части живота, носит непостоянный характер. \\n', 'Изжога\\n', 'Рвота\\n', 'тошнота\\n', 'Отсутствие аппетита\\n']\n"
          ],
          "name": "stdout"
        }
      ]
    },
    {
      "cell_type": "markdown",
      "metadata": {
        "id": "7c_2sE7wzjBb"
      },
      "source": [
        "2. Split the sentence strings into tokens, remove punctuations and force lower case:"
      ]
    },
    {
      "cell_type": "code",
      "metadata": {
        "id": "MB7lsRzQ7UtT",
        "colab": {
          "base_uri": "https://localhost:8080/"
        },
        "outputId": "dd3d09cb-cfc0-481b-81f6-5c9d3e0bba04"
      },
      "source": [
        "def flat(nestedList): # flat the nested lists\n",
        "    return [item.lower() for sublist in nestedList for item in sublist]\n",
        "\n",
        "def splt(inpList): # split into tokens\n",
        "    return flat([line.split() for line in inpList])\n",
        "\n",
        "def cleanTokens(texts): # remove punctuations\n",
        "    rmv = str.maketrans('', '', SYMBOLS_TO_FILTER)\n",
        "\n",
        "    for i in range(len(texts)):\n",
        "        texts[i] = splt(texts[i])\n",
        "        texts[i] = [w.translate(rmv) for w in texts[i]]\n",
        "        try:\n",
        "            texts[i].remove('')\n",
        "        except ValueError:\n",
        "            continue\n",
        "\n",
        "    return texts\n",
        "\n",
        "texts = cleanTokens(texts)\n",
        "print(texts[3])"
      ],
      "execution_count": null,
      "outputs": [
        {
          "output_type": "stream",
          "text": [
            "['боль', 'в', 'животе', 'боль', 'возникает', 'в', 'середине', 'живота', '«под', 'ложечкой»', 'никуда', 'как', 'правило', 'не', 'отдает', 'болевой', 'синдром', 'возникает', 'в', 'верхней', 'части', 'живота', 'носит', 'непостоянный', 'характер', 'изжога', 'рвота', 'тошнота', 'отсутствие', 'аппетита']\n"
          ],
          "name": "stdout"
        }
      ]
    },
    {
      "cell_type": "markdown",
      "metadata": {
        "id": "ngNtGChJ02Q0"
      },
      "source": [
        "Dump the data into dataframe to make it easier to handle"
      ]
    },
    {
      "cell_type": "code",
      "metadata": {
        "id": "xeoNRlwjRicu"
      },
      "source": [
        "df = pd.DataFrame(columns=['texts', 'labels'])\n",
        "df.texts, df.labels = [' '.join(t) for t in texts], labels"
      ],
      "execution_count": null,
      "outputs": []
    },
    {
      "cell_type": "markdown",
      "metadata": {
        "id": "dQvPQ73B07LM"
      },
      "source": [
        "3. Initialize Keras tokenizer and make the vocabulary based on the word indices frequency:"
      ]
    },
    {
      "cell_type": "code",
      "metadata": {
        "colab": {
          "base_uri": "https://localhost:8080/"
        },
        "id": "IlQvQfNs7Uvf",
        "outputId": "395609e2-1b72-406c-fd86-dbb90731fc09"
      },
      "source": [
        "tokenizer = Tokenizer(\n",
        "    num_words = MAX_WORDS_COUNT, \n",
        "    # filters = symbolsToFilter, \n",
        "    lower = True, # enforce the lower register\n",
        "    split = ' ', # split by space\n",
        "    oov_token = 'unknown', # replaces all out-of-vocabulary words\n",
        "    char_level = False # if True, every charcter is used as token\n",
        ")\n",
        "\n",
        "tokenizer.fit_on_texts(df.texts.values)\n",
        "print(f'the vocabulary size: {len(tokenizer.word_index.items())}')"
      ],
      "execution_count": null,
      "outputs": [
        {
          "output_type": "stream",
          "text": [
            "the vocabulary size: 2058\n"
          ],
          "name": "stdout"
        }
      ]
    },
    {
      "cell_type": "markdown",
      "metadata": {
        "id": "d4ttcKuU1aXq"
      },
      "source": [
        "4. Encode the labels"
      ]
    },
    {
      "cell_type": "code",
      "metadata": {
        "colab": {
          "base_uri": "https://localhost:8080/"
        },
        "id": "PqLHZyun7Ux-",
        "outputId": "2e8f119e-ce7a-4a85-e5f4-202e24b0e455"
      },
      "source": [
        "def encode(labels):\n",
        "    encoder = LabelEncoder()\n",
        "    encoder.fit(df.labels)\n",
        "    labelsEncoded = encoder.transform(df.labels)\n",
        "    y = utils.to_categorical(labelsEncoded, len(set(df.labels)))\n",
        "    print(y.shape)\n",
        "\n",
        "    return encoder, y\n",
        "\n",
        "encoder, y = encode(labels)"
      ],
      "execution_count": null,
      "outputs": [
        {
          "output_type": "stream",
          "text": [
            "(251, 10)\n"
          ],
          "name": "stdout"
        }
      ]
    },
    {
      "cell_type": "markdown",
      "metadata": {
        "id": "yO4Veh8K1sc3"
      },
      "source": [
        "5. Convert the texts to sequences:"
      ]
    },
    {
      "cell_type": "code",
      "metadata": {
        "id": "CWvVrnSkDVpT"
      },
      "source": [
        "def textToSeq(texts):\n",
        "    xSeq = tokenizer.texts_to_sequences(df.texts)\n",
        "    xSeq = np.array(xSeq, dtype=object)\n",
        "    x = pad_sequences(xSeq, maxlen=MAX_LEN, padding='pre', truncating='pre')\n",
        "\n",
        "    return x\n",
        "\n",
        "x = textToSeq(texts)"
      ],
      "execution_count": null,
      "outputs": []
    },
    {
      "cell_type": "markdown",
      "metadata": {
        "id": "qx8mRiyf2d-B"
      },
      "source": [
        "Now the dataset is ready to be passed to train test split. The tricky part is that we have to split within the labels in the ame proportion to avoid model misfit:"
      ]
    },
    {
      "cell_type": "code",
      "metadata": {
        "colab": {
          "base_uri": "https://localhost:8080/"
        },
        "id": "pEKg2Rd1Gsqq",
        "outputId": "14c5a9da-a954-42b6-cca2-fa393e094f49"
      },
      "source": [
        "def splitData(x, y, labels):\n",
        "\n",
        "    # get dictionary with number of records by a label\n",
        "    cntVal = {}\n",
        "    for label in set(labels):\n",
        "        cntVal[label] = len(data[label])\n",
        "    print(cntVal)\n",
        "\n",
        "    # initialize the arrays for train and test samples\n",
        "    # consider the correct dimension to pass to the model\n",
        "    xTrain, xTest = np.array(np.zeros(MAX_LEN)), np.array(np.zeros(MAX_LEN))\n",
        "    yTrain, yTest = np.array(np.zeros(len(labelNames))), np.array(np.zeros(len(labelNames)))\n",
        "\n",
        "    xTrain, xTest = xTrain[np.newaxis, ...], xTest[np.newaxis, ...] \n",
        "    yTrain, yTest = yTrain[np.newaxis, ...], yTest[np.newaxis, ...] \n",
        "\n",
        "    # split while looping through the labels \n",
        "    cnt = 0\n",
        "    for i in range(len(labelNames)):\n",
        "        n = cntVal[labelNames[i]]\n",
        "        xTr, xTs, yTr, yTs = train_test_split(x[cnt:cnt+n], y[cnt:cnt+n], test_size=0.2, random_state= RANDOM_STATE)\n",
        "        xTrain, xTest = np.concatenate((xTrain, xTr)), np.concatenate((xTest, xTs))\n",
        "        yTrain, yTest = np.concatenate((yTrain, yTr)), np.concatenate((yTest, yTs))\n",
        "        cnt += n\n",
        "\n",
        "    # drop the rows required to initialize the array\n",
        "    xTrain, xTest = np.delete(xTrain, (0), axis=0), np.delete(xTest, (0), axis=0)\n",
        "    yTrain, yTest = np.delete(yTrain, (0), axis=0), np.delete(yTest, (0), axis=0)\n",
        "\n",
        "    return xTrain, xTest, yTrain, yTest\n",
        "\n",
        "xTrain, xTest, yTrain, yTest = splitData(x, y, labels)"
      ],
      "execution_count": null,
      "outputs": [
        {
          "output_type": "stream",
          "text": [
            "{'Энтерит': 18, 'Панкреатит': 31, 'Дуоденит': 23, 'Холицестит': 23, 'Эзофагит': 31, 'Гастрит': 15, 'Колит': 44, 'Язва': 21, 'Гепатит': 24, 'Аппендицит': 21}\n"
          ],
          "name": "stdout"
        }
      ]
    },
    {
      "cell_type": "markdown",
      "metadata": {
        "id": "hHZf1aJB5B4D"
      },
      "source": [
        "To check the model's score and accuracy while prediction the test we need a custom function:"
      ]
    },
    {
      "cell_type": "code",
      "metadata": {
        "id": "EOF2Wnsr9XxX"
      },
      "source": [
        "def totalScore(model, xTest, yTest):\n",
        "    res = dict(zip(labelNames, [0]*len(labelNames)))\n",
        "    truth = [np.argmax(t) for t in yTest]\n",
        "    preds = [np.argmax(p) for p in model.predict(xTest)]\n",
        "    names = encoder.inverse_transform(preds).astype(object)\n",
        "\n",
        "    for i in range(len(truth)):\n",
        "        if truth[i] == preds[i]:\n",
        "            res[names[i]] += 1\n",
        "    \n",
        "    print(res)\n",
        "\n",
        "    return f'total recognition score: {round(sum(res.values()) / len(truth) * 100, 2)}%'"
      ],
      "execution_count": null,
      "outputs": []
    },
    {
      "cell_type": "markdown",
      "metadata": {
        "id": "-lGa9A3l9JRX"
      },
      "source": [
        "### MODEL FIT"
      ]
    },
    {
      "cell_type": "markdown",
      "metadata": {
        "id": "XmDI_1wZ5XTQ"
      },
      "source": [
        "Now let's try models with different layers:"
      ]
    },
    {
      "cell_type": "code",
      "metadata": {
        "colab": {
          "base_uri": "https://localhost:8080/",
          "height": 848
        },
        "id": "EVZ5TeIK-yaZ",
        "outputId": "e9886732-1184-4457-cd19-7f196ea3a142"
      },
      "source": [
        "# EMBEDDING + DENSE\n",
        "\n",
        "model = Sequential()\n",
        "model.add(Embedding(MAX_WORDS_COUNT, 20, input_length=MAX_LEN))\n",
        "model.add(SpatialDropout1D(0.4))\n",
        "model.add(Flatten())\n",
        "model.add(BatchNormalization())\n",
        "model.add(Dense(64, activation='relu'))\n",
        "model.add(Dropout(0.4))\n",
        "model.add(BatchNormalization())\n",
        "model.add(Dense(len(set(labels)), activation='softmax'))\n",
        "\n",
        "model.compile(\n",
        "    optimizer = 'adam',\n",
        "    loss = 'categorical_crossentropy',\n",
        "    metrics = ['accuracy']\n",
        ")\n",
        "\n",
        "history = model.fit(\n",
        "    xTrain, yTrain,\n",
        "    epochs = 15,\n",
        "    batch_size = BATCH_SIZE,\n",
        "    validation_data = (xTest, yTest)\n",
        ")\n",
        "\n",
        "plt.plot(history.history['accuracy'], label='correct answers @train')\n",
        "plt.plot(history.history['val_accuracy'], label='correct answers @test')\n",
        "plt.xlabel('epoch')\n",
        "plt.ylabel('correct prediction share')\n",
        "plt.legend()\n",
        "plt.show()\n",
        "\n",
        "totalScore(model, xTest, yTest)"
      ],
      "execution_count": null,
      "outputs": [
        {
          "output_type": "stream",
          "text": [
            "Epoch 1/15\n",
            "66/66 [==============================] - 2s 6ms/step - loss: 2.7356 - accuracy: 0.1020 - val_loss: 2.2983 - val_accuracy: 0.0909\n",
            "Epoch 2/15\n",
            "66/66 [==============================] - 0s 4ms/step - loss: 2.5776 - accuracy: 0.1327 - val_loss: 2.3086 - val_accuracy: 0.1636\n",
            "Epoch 3/15\n",
            "66/66 [==============================] - 0s 4ms/step - loss: 2.5917 - accuracy: 0.1173 - val_loss: 2.3120 - val_accuracy: 0.1455\n",
            "Epoch 4/15\n",
            "66/66 [==============================] - 0s 4ms/step - loss: 2.3266 - accuracy: 0.2245 - val_loss: 2.3097 - val_accuracy: 0.1636\n",
            "Epoch 5/15\n",
            "66/66 [==============================] - 0s 5ms/step - loss: 2.2704 - accuracy: 0.2092 - val_loss: 2.2760 - val_accuracy: 0.2545\n",
            "Epoch 6/15\n",
            "66/66 [==============================] - 0s 4ms/step - loss: 2.2067 - accuracy: 0.2449 - val_loss: 2.2486 - val_accuracy: 0.2000\n",
            "Epoch 7/15\n",
            "66/66 [==============================] - 0s 4ms/step - loss: 2.0990 - accuracy: 0.2857 - val_loss: 2.2422 - val_accuracy: 0.2364\n",
            "Epoch 8/15\n",
            "66/66 [==============================] - 0s 4ms/step - loss: 2.0565 - accuracy: 0.2908 - val_loss: 2.2638 - val_accuracy: 0.1636\n",
            "Epoch 9/15\n",
            "66/66 [==============================] - 0s 4ms/step - loss: 2.0761 - accuracy: 0.3010 - val_loss: 2.2971 - val_accuracy: 0.1818\n",
            "Epoch 10/15\n",
            "66/66 [==============================] - 0s 5ms/step - loss: 1.8903 - accuracy: 0.3316 - val_loss: 2.3002 - val_accuracy: 0.1818\n",
            "Epoch 11/15\n",
            "66/66 [==============================] - 0s 4ms/step - loss: 1.8784 - accuracy: 0.3265 - val_loss: 2.3013 - val_accuracy: 0.1636\n",
            "Epoch 12/15\n",
            "66/66 [==============================] - 0s 4ms/step - loss: 1.7248 - accuracy: 0.4337 - val_loss: 2.2928 - val_accuracy: 0.2000\n",
            "Epoch 13/15\n",
            "66/66 [==============================] - 0s 4ms/step - loss: 1.7535 - accuracy: 0.3673 - val_loss: 2.3388 - val_accuracy: 0.2182\n",
            "Epoch 14/15\n",
            "66/66 [==============================] - 0s 4ms/step - loss: 1.7560 - accuracy: 0.3673 - val_loss: 2.4024 - val_accuracy: 0.2545\n",
            "Epoch 15/15\n",
            "66/66 [==============================] - 0s 4ms/step - loss: 1.5993 - accuracy: 0.4643 - val_loss: 2.3997 - val_accuracy: 0.2364\n"
          ],
          "name": "stdout"
        },
        {
          "output_type": "display_data",
          "data": {
            "image/png": "[encoded data removed]",
            "text/plain": [
              "<Figure size 432x288 with 1 Axes>"
            ]
          },
          "metadata": {
            "tags": [],
            "needs_background": "light"
          }
        },
        {
          "output_type": "stream",
          "text": [
            "{'Язва': 1, 'Гепатит': 1, 'Дуоденит': 2, 'Колит': 3, 'Гастрит': 0, 'Эзофагит': 3, 'Энтерит': 0, 'Аппендицит': 0, 'Панкреатит': 1, 'Холицестит': 2}\n"
          ],
          "name": "stdout"
        },
        {
          "output_type": "execute_result",
          "data": {
            "application/vnd.google.colaboratory.intrinsic+json": {
              "type": "string"
            },
            "text/plain": [
              "'total recognition score: 23.64%'"
            ]
          },
          "metadata": {
            "tags": []
          },
          "execution_count": 24
        }
      ]
    },
    {
      "cell_type": "code",
      "metadata": {
        "colab": {
          "base_uri": "https://localhost:8080/",
          "height": 600
        },
        "id": "rFPcKx61qCLy",
        "outputId": "aa5fa5f8-afcb-44bf-fe41-90e69d9c4ccd"
      },
      "source": [
        "# EMBEDDING + LSTM\n",
        "\n",
        "model = Sequential()\n",
        "model.add(Embedding(MAX_WORDS_COUNT, 40, input_length=MAX_LEN))\n",
        "model.add(SpatialDropout1D(0.4))\n",
        "model.add(BatchNormalization())\n",
        "model.add(LSTM(4, return_sequences=True))\n",
        "model.add(Dropout(0.5))\n",
        "model.add(BatchNormalization())\n",
        "model.add(Dense(100, activation='relu'))\n",
        "model.add(Dropout(0.5))\n",
        "model.add(BatchNormalization())\n",
        "model.add(Flatten())\n",
        "model.add(Dense(len(set(labels)), activation='softmax'))\n",
        "\n",
        "model.compile(\n",
        "    optimizer = 'rmsprop',\n",
        "    loss='categorical_crossentropy',\n",
        "    metrics=['accuracy']\n",
        ")\n",
        "\n",
        "history = model.fit(\n",
        "    xTrain, yTrain,\n",
        "    epochs=8,\n",
        "    batch_size=BATCH_SIZE,\n",
        "    validation_data=(xTest, yTest)\n",
        ")\n",
        "\n",
        "plt.plot(history.history['accuracy'], label='correct answers @train')\n",
        "plt.plot(history.history['val_accuracy'], label='correct answers @test')\n",
        "plt.xlabel('epoch')\n",
        "plt.ylabel('correct prediction share')\n",
        "plt.legend()\n",
        "plt.show()\n",
        "\n",
        "totalScore(model, xTest, yTest)"
      ],
      "execution_count": null,
      "outputs": [
        {
          "output_type": "stream",
          "text": [
            "Epoch 1/8\n",
            "66/66 [==============================] - 5s 14ms/step - loss: 3.1541 - accuracy: 0.1173 - val_loss: 2.2997 - val_accuracy: 0.1636\n",
            "Epoch 2/8\n",
            "66/66 [==============================] - 0s 7ms/step - loss: 3.0750 - accuracy: 0.0918 - val_loss: 2.3109 - val_accuracy: 0.1636\n",
            "Epoch 3/8\n",
            "66/66 [==============================] - 0s 7ms/step - loss: 2.7408 - accuracy: 0.1429 - val_loss: 2.3108 - val_accuracy: 0.1636\n",
            "Epoch 4/8\n",
            "66/66 [==============================] - 0s 7ms/step - loss: 2.7014 - accuracy: 0.1582 - val_loss: 2.2936 - val_accuracy: 0.1636\n",
            "Epoch 5/8\n",
            "66/66 [==============================] - 0s 7ms/step - loss: 2.5615 - accuracy: 0.1888 - val_loss: 2.3076 - val_accuracy: 0.1818\n",
            "Epoch 6/8\n",
            "66/66 [==============================] - 0s 7ms/step - loss: 2.4512 - accuracy: 0.2398 - val_loss: 2.3130 - val_accuracy: 0.2182\n",
            "Epoch 7/8\n",
            "66/66 [==============================] - 0s 7ms/step - loss: 2.3932 - accuracy: 0.2704 - val_loss: 2.2513 - val_accuracy: 0.2182\n",
            "Epoch 8/8\n",
            "66/66 [==============================] - 0s 7ms/step - loss: 2.3217 - accuracy: 0.2704 - val_loss: 2.2826 - val_accuracy: 0.1636\n"
          ],
          "name": "stdout"
        },
        {
          "output_type": "display_data",
          "data": {
            "image/png": "[encoded data removed]",
            "text/plain": [
              "<Figure size 432x288 with 1 Axes>"
            ]
          },
          "metadata": {
            "tags": [],
            "needs_background": "light"
          }
        },
        {
          "output_type": "stream",
          "text": [
            "{'Язва': 0, 'Гепатит': 0, 'Дуоденит': 1, 'Колит': 4, 'Гастрит': 0, 'Эзофагит': 1, 'Энтерит': 0, 'Аппендицит': 2, 'Панкреатит': 0, 'Холицестит': 1}\n"
          ],
          "name": "stdout"
        },
        {
          "output_type": "execute_result",
          "data": {
            "application/vnd.google.colaboratory.intrinsic+json": {
              "type": "string"
            },
            "text/plain": [
              "'total recognition score: 16.36%'"
            ]
          },
          "metadata": {
            "tags": []
          },
          "execution_count": 25
        }
      ]
    },
    {
      "cell_type": "code",
      "metadata": {
        "colab": {
          "base_uri": "https://localhost:8080/",
          "height": 1000
        },
        "id": "GAezn4r8_B2Q",
        "outputId": "3ee59af6-4a6b-4c7d-bdb6-dc9ea1078123"
      },
      "source": [
        "# EMBEDDING + Conv1D\n",
        "\n",
        "model = Sequential()\n",
        "model.add(Embedding(MAX_WORDS_COUNT, 40, input_length=MAX_LEN))\n",
        "model.add(SpatialDropout1D(0.2))\n",
        "model.add(BatchNormalization())\n",
        "model.add(Conv1D(\n",
        "    filters = 20, # number of output filters in the convolution\n",
        "    kernel_size = 2, # length of a filter\n",
        "    activation='relu'\n",
        "))\n",
        "model.add(Conv1D(\n",
        "    filters = 20,\n",
        "    kernel_size = 2,\n",
        "    activation='relu'\n",
        "))\n",
        "model.add(MaxPooling1D(2)) # stride 2\n",
        "model.add(Dropout(0.2))\n",
        "model.add(BatchNormalization())\n",
        "model.add(Flatten())\n",
        "model.add(Dense(len(set(labels)), activation='softmax'))\n",
        "\n",
        "model.compile(\n",
        "    optimizer = 'rmsprop',\n",
        "    loss='categorical_crossentropy',\n",
        "    metrics=['accuracy']\n",
        ")\n",
        "\n",
        "history = model.fit(\n",
        "    xTrain, yTrain,\n",
        "    epochs=20,\n",
        "    batch_size=BATCH_SIZE,\n",
        "    validation_data=(xTest, yTest)\n",
        ")\n",
        "\n",
        "plt.plot(history.history['accuracy'], label='correct answers @train')\n",
        "plt.plot(history.history['val_accuracy'], label='correct answers @test')\n",
        "plt.xlabel('epoch')\n",
        "plt.ylabel('correct prediction share')\n",
        "plt.legend()\n",
        "plt.show()\n",
        "\n",
        "totalScore(model, xTest, yTest)"
      ],
      "execution_count": null,
      "outputs": [
        {
          "output_type": "stream",
          "text": [
            "Epoch 1/20\n",
            "66/66 [==============================] - 14s 8ms/step - loss: 3.0424 - accuracy: 0.0765 - val_loss: 2.3067 - val_accuracy: 0.0909\n",
            "Epoch 2/20\n",
            "66/66 [==============================] - 0s 5ms/step - loss: 2.4469 - accuracy: 0.2296 - val_loss: 2.3431 - val_accuracy: 0.1091\n",
            "Epoch 3/20\n",
            "66/66 [==============================] - 0s 5ms/step - loss: 1.7970 - accuracy: 0.3673 - val_loss: 2.3689 - val_accuracy: 0.0909\n",
            "Epoch 4/20\n",
            "66/66 [==============================] - 0s 5ms/step - loss: 1.4622 - accuracy: 0.5102 - val_loss: 2.4009 - val_accuracy: 0.1273\n",
            "Epoch 5/20\n",
            "66/66 [==============================] - 0s 5ms/step - loss: 1.2625 - accuracy: 0.5867 - val_loss: 2.3601 - val_accuracy: 0.1273\n",
            "Epoch 6/20\n",
            "66/66 [==============================] - 0s 5ms/step - loss: 0.9407 - accuracy: 0.7245 - val_loss: 2.3539 - val_accuracy: 0.1455\n",
            "Epoch 7/20\n",
            "66/66 [==============================] - 0s 5ms/step - loss: 0.7835 - accuracy: 0.8163 - val_loss: 2.2979 - val_accuracy: 0.1818\n",
            "Epoch 8/20\n",
            "66/66 [==============================] - 0s 6ms/step - loss: 0.6464 - accuracy: 0.8316 - val_loss: 2.2161 - val_accuracy: 0.2000\n",
            "Epoch 9/20\n",
            "66/66 [==============================] - 0s 6ms/step - loss: 0.5582 - accuracy: 0.8469 - val_loss: 2.1794 - val_accuracy: 0.2182\n",
            "Epoch 10/20\n",
            "66/66 [==============================] - 0s 5ms/step - loss: 0.4659 - accuracy: 0.8622 - val_loss: 2.2245 - val_accuracy: 0.2182\n",
            "Epoch 11/20\n",
            "66/66 [==============================] - 0s 5ms/step - loss: 0.4323 - accuracy: 0.9184 - val_loss: 2.2053 - val_accuracy: 0.2909\n",
            "Epoch 12/20\n",
            "66/66 [==============================] - 0s 5ms/step - loss: 0.3292 - accuracy: 0.9286 - val_loss: 2.2593 - val_accuracy: 0.2727\n",
            "Epoch 13/20\n",
            "66/66 [==============================] - 0s 5ms/step - loss: 0.2512 - accuracy: 0.9388 - val_loss: 2.3294 - val_accuracy: 0.2545\n",
            "Epoch 14/20\n",
            "66/66 [==============================] - 0s 5ms/step - loss: 0.2320 - accuracy: 0.9439 - val_loss: 2.3237 - val_accuracy: 0.2727\n",
            "Epoch 15/20\n",
            "66/66 [==============================] - 0s 5ms/step - loss: 0.2259 - accuracy: 0.9490 - val_loss: 2.3302 - val_accuracy: 0.2364\n",
            "Epoch 16/20\n",
            "66/66 [==============================] - 0s 5ms/step - loss: 0.1960 - accuracy: 0.9490 - val_loss: 2.3880 - val_accuracy: 0.2727\n",
            "Epoch 17/20\n",
            "66/66 [==============================] - 0s 5ms/step - loss: 0.1564 - accuracy: 0.9694 - val_loss: 2.4260 - val_accuracy: 0.2909\n",
            "Epoch 18/20\n",
            "66/66 [==============================] - 0s 5ms/step - loss: 0.1499 - accuracy: 0.9694 - val_loss: 2.4845 - val_accuracy: 0.3273\n",
            "Epoch 19/20\n",
            "66/66 [==============================] - 0s 5ms/step - loss: 0.1363 - accuracy: 0.9592 - val_loss: 2.5261 - val_accuracy: 0.2909\n",
            "Epoch 20/20\n",
            "66/66 [==============================] - 0s 5ms/step - loss: 0.1083 - accuracy: 0.9847 - val_loss: 2.6127 - val_accuracy: 0.2909\n"
          ],
          "name": "stdout"
        },
        {
          "output_type": "display_data",
          "data": {
            "image/png": "[encoded data removed]",
            "text/plain": [
              "<Figure size 432x288 with 1 Axes>"
            ]
          },
          "metadata": {
            "tags": [],
            "needs_background": "light"
          }
        },
        {
          "output_type": "stream",
          "text": [
            "{'Язва': 3, 'Гепатит': 0, 'Дуоденит': 1, 'Колит': 4, 'Гастрит': 3, 'Эзофагит': 3, 'Энтерит': 0, 'Аппендицит': 0, 'Панкреатит': 1, 'Холицестит': 1}\n"
          ],
          "name": "stdout"
        },
        {
          "output_type": "execute_result",
          "data": {
            "application/vnd.google.colaboratory.intrinsic+json": {
              "type": "string"
            },
            "text/plain": [
              "'total recognition score: 29.09%'"
            ]
          },
          "metadata": {
            "tags": []
          },
          "execution_count": 26
        }
      ]
    },
    {
      "cell_type": "code",
      "metadata": {
        "colab": {
          "base_uri": "https://localhost:8080/",
          "height": 493
        },
        "id": "vGfDfyjv_GOP",
        "outputId": "100526d1-f694-4700-8634-9cee84e05a3e"
      },
      "source": [
        "# EMBEDDING + DENSE + LSTM + CONV1D\n",
        "\n",
        "model = Sequential()\n",
        "model.add(Embedding(MAX_WORDS_COUNT, 40, input_length=MAX_LEN))\n",
        "model.add(SpatialDropout1D(0.2))\n",
        "model.add(BatchNormalization())\n",
        "\n",
        "model.add(LSTM(4, return_sequences=True))\n",
        "model.add(SpatialDropout1D(0.2))\n",
        "model.add(BatchNormalization())\n",
        "\n",
        "model.add(Conv1D(\n",
        "    filters = 20,\n",
        "    kernel_size = 2,\n",
        "    activation='relu'\n",
        "))\n",
        "model.add(SpatialDropout1D(0.2))\n",
        "model.add(BatchNormalization())\n",
        "\n",
        "model.add(Flatten())\n",
        "model.add(Dense(1024, activation='relu'))\n",
        "model.add(Dropout(0.4))\n",
        "model.add(BatchNormalization())\n",
        "model.add(Dense(len(set(labels)), activation='softmax'))\n",
        "\n",
        "model.compile(\n",
        "    optimizer = 'adam',\n",
        "    loss='categorical_crossentropy',\n",
        "    metrics=['accuracy']\n",
        ")\n",
        "\n",
        "history = model.fit(\n",
        "    xTrain, yTrain,\n",
        "    epochs=5,\n",
        "    batch_size=BATCH_SIZE,\n",
        "    validation_data=(xTest, yTest)\n",
        ")\n",
        "\n",
        "plt.plot(history.history['accuracy'], label='correct answers @train')\n",
        "plt.plot(history.history['val_accuracy'], label='correct answers @test')\n",
        "plt.xlabel('epoch')\n",
        "plt.ylabel('correct prediction share')\n",
        "plt.legend()\n",
        "plt.show()\n",
        "\n",
        "totalScore(model, xTest, yTest)"
      ],
      "execution_count": null,
      "outputs": [
        {
          "output_type": "stream",
          "text": [
            "Epoch 1/5\n",
            "66/66 [==============================] - 3s 14ms/step - loss: 2.9012 - accuracy: 0.0867 - val_loss: 2.2749 - val_accuracy: 0.1636\n",
            "Epoch 2/5\n",
            "66/66 [==============================] - 1s 8ms/step - loss: 2.5276 - accuracy: 0.2143 - val_loss: 2.3987 - val_accuracy: 0.1091\n",
            "Epoch 3/5\n",
            "66/66 [==============================] - 1s 8ms/step - loss: 2.7141 - accuracy: 0.1582 - val_loss: 2.5456 - val_accuracy: 0.1091\n",
            "Epoch 4/5\n",
            "66/66 [==============================] - 1s 8ms/step - loss: 2.4055 - accuracy: 0.1990 - val_loss: 2.7815 - val_accuracy: 0.1091\n",
            "Epoch 5/5\n",
            "66/66 [==============================] - 1s 8ms/step - loss: 2.3585 - accuracy: 0.2245 - val_loss: 2.6280 - val_accuracy: 0.0909\n"
          ],
          "name": "stdout"
        },
        {
          "output_type": "display_data",
          "data": {
            "image/png": "[encoded data removed]",
            "text/plain": [
              "<Figure size 432x288 with 1 Axes>"
            ]
          },
          "metadata": {
            "tags": [],
            "needs_background": "light"
          }
        },
        {
          "output_type": "stream",
          "text": [
            "{'Язва': 0, 'Гепатит': 5, 'Дуоденит': 0, 'Колит': 0, 'Гастрит': 0, 'Эзофагит': 0, 'Энтерит': 0, 'Аппендицит': 0, 'Панкреатит': 0, 'Холицестит': 0}\n"
          ],
          "name": "stdout"
        },
        {
          "output_type": "execute_result",
          "data": {
            "application/vnd.google.colaboratory.intrinsic+json": {
              "type": "string"
            },
            "text/plain": [
              "'total recognition score: 9.09%'"
            ]
          },
          "metadata": {
            "tags": []
          },
          "execution_count": 27
        }
      ]
    },
    {
      "cell_type": "markdown",
      "metadata": {
        "id": "GRjsBydV7t8-"
      },
      "source": [
        "The best result of 30% we have achieved by applying embedding and convolution layers. It is quite low but let's keep in mind that the dataset contains only 250 records which is extremely low.\n",
        "\n",
        "Potential actions to improve the model score (presumably for a small value):\n",
        "\n",
        "[_] use the vocabluary based on less frequent words\n",
        "\n",
        "[_] try a different sequence length and a batch size."
      ]
    }
  ]
}