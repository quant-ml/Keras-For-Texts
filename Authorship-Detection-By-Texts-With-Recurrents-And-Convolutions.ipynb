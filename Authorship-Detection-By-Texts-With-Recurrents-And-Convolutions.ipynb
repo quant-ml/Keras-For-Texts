{
  "nbformat": 4,
  "nbformat_minor": 0,
  "metadata": {
    "colab": {
      "name": "Authorship-Detection-By-Texts-With-Recurrents-And-Convolutions.ipynb",
      "provenance": [],
      "collapsed_sections": []
    },
    "kernelspec": {
      "name": "python3",
      "display_name": "Python 3"
    },
    "language_info": {
      "name": "python"
    },
    "accelerator": "GPU"
  },
  "cells": [
    {
      "cell_type": "code",
      "metadata": {
        "colab": {
          "base_uri": "https://localhost:8080/"
        },
        "id": "N2GVerVn3X49",
        "outputId": "5dbcefe2-8f46-4f62-dc35-45c7f3ee47fe"
      },
      "source": [
        "from google.colab import drive\n",
        "drive.mount('/content/d')"
      ],
      "execution_count": null,
      "outputs": [
        {
          "output_type": "stream",
          "text": [
            "Mounted at /content/d\n"
          ],
          "name": "stdout"
        }
      ]
    },
    {
      "cell_type": "code",
      "metadata": {
        "id": "I8Exxbja3e8x"
      },
      "source": [
        "import os\n",
        "import pandas as pd\n",
        "import numpy as np\n",
        "import matplotlib.pyplot as plt\n",
        "\n",
        "from sklearn.preprocessing import LabelEncoder\n",
        "from sklearn.model_selection import train_test_split\n",
        "\n",
        "from tensorflow.keras.preprocessing.text import Tokenizer \n",
        "from tensorflow.keras import utils\n",
        "from tensorflow.keras.models import Sequential\n",
        "from tensorflow.keras.layers import Embedding, SpatialDropout1D, BatchNormalization, Dense, Dropout, Flatten\n",
        "from tensorflow.keras.layers import SimpleRNN, GRU, LSTM, Bidirectional\n",
        "from tensorflow.keras.layers import Conv1D, MaxPooling1D\n",
        "from tensorflow.keras.preprocessing.sequence import pad_sequences\n",
        "\n",
        "RANDOM_STATE = 42"
      ],
      "execution_count": null,
      "outputs": []
    },
    {
      "cell_type": "markdown",
      "metadata": {
        "id": "CnZokkEi5HVJ"
      },
      "source": [
        "## PREPROCESSING"
      ]
    },
    {
      "cell_type": "markdown",
      "metadata": {
        "id": "kDm3kfzx4UFI"
      },
      "source": [
        "**<ins>PROBLEM SETTING</ins>**: As the initial source we have the zip with the txt files \n",
        "already divided into the train and test split. Each file contains the the works of famous authors (Bradberry, Henry, Bulgakov...). Let's extract the zip into a single directory:"
      ]
    },
    {
      "cell_type": "markdown",
      "metadata": {
        "id": "RHaalUOv4sQf"
      },
      "source": [
        "The txt files' names containt the reference - either it is the train or the test. So let's collect them into the separate lists: one for the all the texts labeled as train, the other one - as test."
      ]
    },
    {
      "cell_type": "code",
      "metadata": {
        "id": "g7cQBKuW34DF"
      },
      "source": [
        "!unzip 'd/My Drive/nn/_4/Тексты писателей-20210525T170220Z-001.zip'"
      ],
      "execution_count": null,
      "outputs": []
    },
    {
      "cell_type": "code",
      "metadata": {
        "id": "FDY4mf0G3oZd"
      },
      "source": [
        "def readText(fileName): \n",
        "    '''\n",
        "    collect all the texts\n",
        "    '''\n",
        "    f = open(fileName, 'r')\n",
        "    text = f.read()\n",
        "    text = text.replace('\\n', ' ')\n",
        "\n",
        "    return text\n",
        "\n",
        "# define the labels\n",
        "labels = ['О. Генри', 'Стругацкие', 'Булгаков', 'Саймак', 'Фрай', 'Брэдберри']\n",
        "nLabels = len(labels)\n",
        "\n",
        "inputFolder = 'Тексты писателей/'\n",
        "\n",
        "def collectTexts(inputFolder=inputFolder):\n",
        "    '''\n",
        "    collect all texts into the train and test smaples\n",
        "    '''\n",
        "    trainText, testText = [], []\n",
        "    for label in labels:\n",
        "        for fileName in os.listdir(inputFolder):\n",
        "            if label in fileName:\n",
        "                if 'Обучающая' in fileName:\n",
        "                    trainText.append(readText(inputFolder + fileName))\n",
        "                    print(f'{fileName} added to the train sample')\n",
        "                if 'Тестовая' in fileName:\n",
        "                    testText.append(readText(inputFolder+fileName))\n",
        "                    print(f'{fileName} added to the test sample')\n",
        "\n",
        "    return trainText, testText\n",
        "\n",
        "trainText, testText = collectTexts()"
      ],
      "execution_count": null,
      "outputs": []
    },
    {
      "cell_type": "markdown",
      "metadata": {
        "id": "SagbxT6G5I0o"
      },
      "source": [
        "The important step to pass the text to the model is to correctly convert it to the numerics. That can be performed in several steps:\n",
        "\n",
        "**STEP 1:** word tokenization\n",
        "\n",
        "We need to split our texts into the single words array and fit the tokenizer based on it."
      ]
    },
    {
      "cell_type": "code",
      "metadata": {
        "id": "wEzj92hf5LLX"
      },
      "source": [
        "# to speed up the model fit and reduce RAM usage\n",
        "maxWordsCount = 20000\n",
        "\n",
        "# all the symbols to exclude from the processed text\n",
        "symbolsToFilter = '!\"#$%&()*+,-–—./…:;<=>?@[\\\\]^_`{|}~«»\\t\\n\\xa0\\ufeff'\n",
        "\n",
        "# tensorflow.keras.preprocessing.text\n",
        "tokenizer = Tokenizer(\n",
        "    num_words = maxWordsCount, # max words to be processed by the model\n",
        "    filters = symbolsToFilter,\n",
        "    lower = True, # enforce the lower register\n",
        "    split = ' ', # split by space\n",
        "    oov_token = 'unknown', # replaces all out-of-vocabulary words\n",
        "    char_level = False # if True, every charcter is used as token\n",
        ")\n",
        "\n",
        "tokenizer.fit_on_texts(trainText)\n",
        "items = list(tokenizer.word_index.items())\n",
        "\n",
        "# check the input and the output\n",
        "print(f'top 10 frequent words:\\n{items[-10:]}')\n",
        "print()\n",
        "print(f'vocabulary size: {len(items)}')"
      ],
      "execution_count": null,
      "outputs": []
    },
    {
      "cell_type": "markdown",
      "metadata": {
        "id": "e5qHrnZ65cLE"
      },
      "source": [
        "**STEP 2:** convert tokens into the numeric sequence\n",
        "\n",
        "We call the *fit_on_sequence* method for our tokenizer:"
      ]
    },
    {
      "cell_type": "code",
      "metadata": {
        "id": "ZF5PIHfw5bTl"
      },
      "source": [
        "trainWordIndices = tokenizer.texts_to_sequences(trainText)\n",
        "testWordIndices = tokenizer.texts_to_sequences(testText)\n",
        "\n",
        "print(f'original sequence\\n{trainText[2][:80]}')\n",
        "print(f'numeric sequence\\n{trainWordIndices[2][:20]}')"
      ],
      "execution_count": null,
      "outputs": []
    },
    {
      "cell_type": "markdown",
      "metadata": {
        "id": "Oz_FzlL85xo7"
      },
      "source": [
        "Now we can extract some statitics based on the results:"
      ]
    },
    {
      "cell_type": "code",
      "metadata": {
        "id": "q5OTu3WQ5xEm"
      },
      "source": [
        "myCount = {\n",
        "    'symbolsInTrain' : 0,\n",
        "    'wordsInTrain' : 0,\n",
        "    'symbolsInTest' : 0,\n",
        "    'wordsInTest' : 0,\n",
        "}\n",
        "\n",
        "print('-------------------')\n",
        "print('TRAIN STATS:')\n",
        "print('-------------------')\n",
        "for i in range(nLabels):\n",
        "    print(\n",
        "        labels[i], \n",
        "        ' ' * (10 - len(labels[i])), \n",
        "        len(trainText[i]), 'symbols, ',\n",
        "        len(trainWordIndices[i]), 'words'\n",
        "    )\n",
        "    myCount['symbolsInTrain'] += len(trainText[i])\n",
        "    myCount['wordsInTrain'] += len(trainWordIndices[i])\n",
        "\n",
        "print(\n",
        "    'in total:', \n",
        "    ' ' * 1, \n",
        "    myCount['symbolsInTrain'], 'symbols, ',\n",
        "    myCount['wordsInTrain'], 'words'\n",
        ")\n",
        "print('-------------------')\n",
        "\n",
        "print('TEST STATS:')\n",
        "print('-------------------')\n",
        "for i in range(nLabels):\n",
        "    print(\n",
        "        labels[i], \n",
        "        ' ' * (10 - len(labels[i])), \n",
        "        len(testText[i]), 'symbols, ',\n",
        "        len(testWordIndices[i]), 'words'\n",
        "    )\n",
        "    myCount['symbolsInTest'] += len(testText[i])\n",
        "    myCount['wordsInTest'] += len(testWordIndices[i])\n",
        "\n",
        "print(\n",
        "    'in total:', \n",
        "    ' ' * 1, \n",
        "    myCount['symbolsInTest'], 'symbols, ',\n",
        "    myCount['wordsInTest'], 'words'\n",
        ")\n",
        "print('-------------------')"
      ],
      "execution_count": null,
      "outputs": []
    },
    {
      "cell_type": "markdown",
      "metadata": {
        "id": "m5Bsu-iE6Dpx"
      },
      "source": [
        "**STEP 3:** Prepare the train and test inputs for the model.\n",
        "\n",
        "This step implies the following sequence:\n",
        "\n",
        "1. Get the array of the word indices (*wordIndices*)\n",
        "2. Cut the sample with the given length (*xLen*)\n",
        "3. Dump it to the container\n",
        "4. Take a step from the begining of the previous sample (*step*)"
      ]
    },
    {
      "cell_type": "code",
      "metadata": {
        "id": "SiAIqKQL6AG4"
      },
      "source": [
        "def getSetFromIndices(wordIndices, xLen, step):\n",
        "    '''\n",
        "    slice indices of words into the samples of the\n",
        "    given length (xLen) by the given step\n",
        "    '''\n",
        "    xSample = []\n",
        "    wordsLen = len(wordIndices)\n",
        "    index = 0\n",
        "\n",
        "    while (index + xLen <= wordsLen):\n",
        "        xSample.append(wordIndices[index:index + xLen])\n",
        "        index += step\n",
        "\n",
        "    return xSample\n",
        "\n",
        "def createSetsMultiClasses(wordIndices, xLen, step):\n",
        "    '''\n",
        "    prepare both the train and test input for the model\n",
        "    match sliced samples with the labels\n",
        "    '''\n",
        "    nLabels = len(wordIndices) # get the number of word indices\n",
        "    classesXSamples = [] \n",
        "    for wIdx in wordIndices:\n",
        "        classesXSamples.append(getSetFromIndices(wIdx, xLen, step))\n",
        "    # classesXSamples shape:\n",
        "    # labels count x steps count x steps length (xLen)\n",
        "\n",
        "    xSamples, ySamples = [], []\n",
        "    for l in range(nLabels): # for every label\n",
        "        xL = classesXSamples[l] # collect all the arrays of the respective sample\n",
        "        for i in range(len(xL)):\n",
        "            xSamples.append(xL[i]) # dump each array into the features list\n",
        "            ySamples.append(utils.to_categorical(l, nLabels)) # collect the label as a binary matrix\n",
        "\n",
        "    xSamples, ySamples = np.array(xSamples), np.array(ySamples)\n",
        "\n",
        "    return (xSamples, ySamples)\n",
        "\n",
        "xLen = 1000\n",
        "step = 100\n",
        "\n",
        "xTrain, yTrain = createSetsMultiClasses(trainWordIndices, xLen, step)\n",
        "xTest, yTest = createSetsMultiClasses(testWordIndices, xLen, step)\n",
        "print(\n",
        "    f'the shapes:\\nxTrain: {xTrain.shape}, \\nxTest: {xTest.shape}',\n",
        "    f'\\nyTest: {yTrain.shape}, \\nyTest: {yTest.shape}'\n",
        ")"
      ],
      "execution_count": null,
      "outputs": []
    },
    {
      "cell_type": "code",
      "metadata": {
        "id": "tZYIutnk6tBN"
      },
      "source": [
        "def createTestMultiClasses(wordIndices, xLen, step):\n",
        "    nLabels = len(wordIndices)\n",
        "    xTestLabels, xTestLabelsB = [], []\n",
        "    for wIdx in wordIndices:\n",
        "        sample = (getSetFromIndices(wIdx, xLen, step))\n",
        "        xTestLabels.append(sample)\n",
        "        xTestLabelsB.append(tokenizer.sequences_to_matrix(sample))\n",
        "\n",
        "    xTestLabels, xTestLabelsB = np.array(xTestLabels, dtype=object), np.array(xTestLabelsB, dtype=object)\n",
        "\n",
        "    return xTestLabels, xTestLabelsB\n",
        "\n",
        "def recognizeMultiLabels(model, xTest, modelName):\n",
        "    print(f'model: {modelName}')\n",
        "\n",
        "    totalSumRec = 0 # sum up the correct predictions\n",
        "\n",
        "    for i in range(nLabels):\n",
        "        currPred = model.predict(xTest[i]) # predict\n",
        "        currOut = np.argmax(currPred, axis=1) # get the index of the max element\n",
        "\n",
        "        evVal = []\n",
        "        for j in range(nLabels): # for every label\n",
        "            evVal.append(len(currOut[currOut==j]) / len(xTest[i]))\n",
        "        totalSumRec += len(currOut[currOut==i])\n",
        "        recognizedLabel = np.argmax(evVal)\n",
        "\n",
        "        isRecognized = 'false prediction'\n",
        "        if (recognizedLabel == i):\n",
        "            isRecognized = 'correct prediction'\n",
        "\n",
        "        tempStr = 'Label: ' + labels[i] + ' ' * (11 - len(labels[i])) +\\\n",
        "        str(int(100*evVal[i])) + '% the model recognized as ' + labels[recognizedLabel]\n",
        "        print(tempStr, ' ' * (55 - len(tempStr)), isRecognized, sep ='')\n",
        "\n",
        "    print()\n",
        "    sumCount = 0\n",
        "    for i in range(nLabels):\n",
        "        sumCount += len(xTest[i])\n",
        "    print(f'average prediction rate: {int(100*totalSumRec/sumCount)} %')\n",
        "\n",
        "    return totalSumRec / sumCount"
      ],
      "execution_count": null,
      "outputs": []
    },
    {
      "cell_type": "markdown",
      "metadata": {
        "id": "0u_E25TA5AAB"
      },
      "source": [
        "## RECURRENT NN FOR TEXTS"
      ]
    },
    {
      "cell_type": "markdown",
      "metadata": {
        "id": "siV5z3ZI6sqT"
      },
      "source": [
        "Upon model fit we can pass the test samples to validate the accuracy. We can do that in 2 steps:\n",
        "\n",
        "1. collect the binary matrices for the test sample (similiar to what we have done with the train sample)\n",
        "\n",
        "2. Pass the matrices into the model for the prediction & check the score"
      ]
    },
    {
      "cell_type": "markdown",
      "metadata": {
        "id": "3P9IPRWYVVns"
      },
      "source": [
        "Let's try to implement the recurrent NN - the so called network with 'memory' - to the NLP problems. In Keras one can find different types of the recurrent layers like SimpleRNN, Gated Recurrent Unit (GRU), Long Short Term Memory Unit (LSTM). \n",
        "\n",
        "The first to test will be [simpleRNN](https://keras.io/api/layers/recurrent_layers/simple_rnn/). The neuron of the layer is indeed quite simple: the input and the previous output pass with it's own weight passed through the activation function:"
      ]
    },
    {
      "cell_type": "markdown",
      "metadata": {
        "id": "Yrr8YKsrX_5J"
      },
      "source": [
        "![image.png](data:image/png;base64,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)"
      ]
    },
    {
      "cell_type": "markdown",
      "metadata": {
        "id": "RWlrUH1g6UQ7"
      },
      "source": [
        "Within the model we apply several auxilary layers:\n",
        "\n",
        "* [Dropout](https://keras.io/api/layers/regularization_layers/dropout/) layer randomly sets input units to 0 with a frequency of rate at each step during training time, which helps prevent overfitting. \n",
        "* [SpatialDropout1D](https://www.tensorflow.org/api_docs/python/tf/keras/layers/SpatialDropout1D) performs the same function but drops the entire 1D features maps instead of individual elements.\n",
        "\n",
        "We will apply *ReLU* as the activation function to the RNN layer. The function will output the input directly if it is positive, otherwise, it will output zero. The math formula:\n",
        "\n",
        "$$ y = max(0, x) $$\n",
        "\n",
        "We apply *RMSProp* which is the gradient based optimizer. The idea behind it is to:\n",
        "* maintain a moving average of the square of gradients\n",
        "* divide the gradient by the root of this average\n",
        "\n",
        "Tha math formula:\n",
        "\n",
        "$$ E[g^2]_t = \\beta E[g^2]_{t-1} + (1 - \\beta)(\\frac{\\delta C}{\\delta w}) $$\n",
        "\n",
        "$$ w_t = w_{t-1} - \\frac{\\eta}{\\sqrt{E[g^2]_t} \\frac{\\delta C}{\\delta w}}$$\n",
        "where:\n",
        "$ E[g] $ - moving average of squarred gradients\n",
        "\n",
        "The *loss function* applied is the cross-entropy loss, or log loss, which measures the performance of a classification model whose output is a probability value between 0 and 1. Cross-entropy loss increases as the predicted probability diverges from the actual label. The math formula:\n",
        "\n",
        "$$ CE = - \\Sigma^C_i t_i*log(s_i) $$  \n",
        "where:\n",
        "\n",
        "$ t_i $ is the groundtruth\n",
        "\n",
        "$ s_i $ is the model prediction\n",
        "\n",
        "$ i $ is a label\n",
        "\n",
        "$ C $ is the number of labels"
      ]
    },
    {
      "cell_type": "code",
      "metadata": {
        "id": "zQr2vZT97Vjn"
      },
      "source": [
        "model = Sequential()\n",
        "# convert each word index into multidimensial vector\n",
        "model.add(Embedding(maxWordsCount, 5, input_length=xLen))\n",
        "model.add(SpatialDropout1D(0.2))\n",
        "model.add(BatchNormalization())\n",
        "model.add(SimpleRNN(\n",
        "    5, # units: dimensionality of the output space\n",
        "    dropout=0.2, # drop within the linear transformation of the inputs\n",
        "    recurrent_dropout=0.2, # drop within the linear transformation of the recurrent state\n",
        "    activation='relu'\n",
        "))\n",
        "model.add(Dense(nLabels, activation='softmax'))\n",
        "\n",
        "model.compile(\n",
        "    optimizer = 'rmsprop',\n",
        "    loss='categorical_crossentropy',\n",
        "    metrics=['accuracy']\n",
        ")\n",
        "\n",
        "history = model.fit(\n",
        "    xTrain, yTrain,\n",
        "    epochs=8,\n",
        "    batch_size=512,\n",
        "    validation_data=(xTest, yTest)\n",
        ")\n",
        "\n",
        "plt.plot(history.history['accuracy'], label='correct answers @train')\n",
        "plt.plot(history.history['val_accuracy'], label='correct answers @test')\n",
        "plt.xlabel('epoch')\n",
        "plt.ylabel('correct prediction share')\n",
        "plt.legend()\n",
        "plt.show()\n",
        "\n",
        "xTestLabels, xTestLabelsB = createTestMultiClasses(testWordIndices, xLen, step)\n",
        "pred = recognizeMultiLabels(model, xTestLabels, 'Dense')"
      ],
      "execution_count": null,
      "outputs": []
    },
    {
      "cell_type": "markdown",
      "metadata": {
        "id": "H6DYgXBJYKym"
      },
      "source": [
        "The result is really low. The next to test will be [GRU](https://keras.io/api/layers/recurrent_layers/gru/) layer. Compared to the SimpleRNN it adds an *Update Gate* and *Reset Gate* which are to decide how much to forget and how much to remember:"
      ]
    },
    {
      "cell_type": "markdown",
      "metadata": {
        "id": "sI4ri5j5HiM7"
      },
      "source": [
        "![image.png](data:image/png;base64,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)"
      ]
    },
    {
      "cell_type": "markdown",
      "metadata": {
        "id": "OIGMaiZ-Nwfb"
      },
      "source": [
        "$ h $ - previous output with the weight of $ U $\n",
        "\n",
        "$ x $ - input with the weight of $ W $\n",
        "\n"
      ]
    },
    {
      "cell_type": "code",
      "metadata": {
        "id": "rXKYgJiBwrH7"
      },
      "source": [
        "model = Sequential()\n",
        "model.add(Embedding(maxWordsCount, 5, input_length=xLen))\n",
        "model.add(SpatialDropout1D(0.2))\n",
        "model.add(BatchNormalization())\n",
        "model.add(GRU(\n",
        "    5,\n",
        "    dropout=0.2,\n",
        "    recurrent_dropout=0.2,\n",
        "    activation='relu'\n",
        "))\n",
        "model.add(Dense(nLabels, activation='softmax'))\n",
        "\n",
        "model.compile(\n",
        "    optimizer = 'rmsprop',\n",
        "    loss='categorical_crossentropy',\n",
        "    metrics=['accuracy']\n",
        ")\n",
        "\n",
        "history = model.fit(\n",
        "    xTrain, yTrain,\n",
        "    epochs=8,\n",
        "    batch_size=512,\n",
        "    validation_data=(xTest, yTest)\n",
        ")\n",
        "\n",
        "plt.plot(history.history['accuracy'], label='correct answers @train')\n",
        "plt.plot(history.history['val_accuracy'], label='correct answers @test')\n",
        "plt.xlabel('epoch')\n",
        "plt.ylabel('correct prediction share')\n",
        "plt.legend()\n",
        "plt.show()\n",
        "\n",
        "xTestLabels, xTestLabelsB = createTestMultiClasses(testWordIndices, xLen, step)\n",
        "pred = recognizeMultiLabels(model, xTestLabels, 'GRU')"
      ],
      "execution_count": null,
      "outputs": []
    },
    {
      "cell_type": "markdown",
      "metadata": {
        "id": "25igMCWEKyXN"
      },
      "source": [
        "Obviously, GRU doesn't work here. Let's give a try to [LSTM](https://keras.io/api/layers/recurrent_layers/lstm/) - this layer differes from *GRU* by an additional gate - the input gate:"
      ]
    },
    {
      "cell_type": "markdown",
      "metadata": {
        "id": "n9va6SHt1Xqj"
      },
      "source": [
        "![image.png](data:image/png;base64,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)"
      ]
    },
    {
      "cell_type": "markdown",
      "metadata": {
        "id": "j6cDrVKxuK1S"
      },
      "source": [
        "Some points on the difference between GRU and LSTM:\n",
        "* GRU passes memory directly to the next unit without any control\n",
        "* LSTM controlls memory by the output gate\n",
        "\n",
        "* GRU controls the info from the previous output by the reset gate\n",
        "* LSTM uses reset gate independently to control the previous output info"
      ]
    },
    {
      "cell_type": "code",
      "metadata": {
        "id": "lvgFzMlX64Ie"
      },
      "source": [
        "model = Sequential()\n",
        "model.add(Embedding(maxWordsCount, 5, input_length=xLen))\n",
        "model.add(SpatialDropout1D(0.2))\n",
        "model.add(BatchNormalization())\n",
        "model.add(LSTM(4))\n",
        "model.add(Dense(nLabels, activation='softmax'))\n",
        "\n",
        "model.compile(\n",
        "    optimizer = 'rmsprop',\n",
        "    loss='categorical_crossentropy',\n",
        "    metrics=['accuracy']\n",
        ")\n",
        "\n",
        "history = model.fit(\n",
        "    xTrain, yTrain,\n",
        "    epochs=8,\n",
        "    batch_size=512,\n",
        "    validation_data=(xTest, yTest)\n",
        ")\n",
        "\n",
        "plt.plot(history.history['accuracy'], label='correct answers @train')\n",
        "plt.plot(history.history['val_accuracy'], label='correct answers @test')\n",
        "plt.xlabel('epoch')\n",
        "plt.ylabel('correct prediction share')\n",
        "plt.legend()\n",
        "plt.show()\n",
        "\n",
        "xTestLabels, xTestLabelsB = createTestMultiClasses(testWordIndices, xLen, step)\n",
        "pred = recognizeMultiLabels(model, xTestLabels, 'LSTM')"
      ],
      "execution_count": null,
      "outputs": []
    },
    {
      "cell_type": "markdown",
      "metadata": {
        "id": "tp9LQ1dFyOcD"
      },
      "source": [
        "The model starts to differentiate the labels, but the score is too low. Keras LSTM has the option to play within the layers - either to return the last output or the full sequence. We'll try the latter:"
      ]
    },
    {
      "cell_type": "code",
      "metadata": {
        "id": "DH-oFzfHyGCh"
      },
      "source": [
        "model = Sequential()\n",
        "model.add(Embedding(maxWordsCount, 5, input_length=xLen))\n",
        "model.add(SpatialDropout1D(0.2))\n",
        "model.add(BatchNormalization())\n",
        "model.add(LSTM(4, return_sequences=True))\n",
        "model.add(LSTM(4))\n",
        "model.add(Dense(nLabels, activation='softmax'))\n",
        "\n",
        "model.compile(\n",
        "    optimizer = 'rmsprop',\n",
        "    loss='categorical_crossentropy',\n",
        "    metrics=['accuracy']\n",
        ")\n",
        "\n",
        "history = model.fit(\n",
        "    xTrain, yTrain,\n",
        "    epochs=8,\n",
        "    batch_size=512,\n",
        "    validation_data=(xTest, yTest)\n",
        ")\n",
        "\n",
        "plt.plot(history.history['accuracy'], label='correct answers @train')\n",
        "plt.plot(history.history['val_accuracy'], label='correct answers @test')\n",
        "plt.xlabel('epoch')\n",
        "plt.ylabel('correct prediction share')\n",
        "plt.legend()\n",
        "plt.show()\n",
        "\n",
        "xTestLabels, xTestLabelsB = createTestMultiClasses(testWordIndices, xLen, step)\n",
        "pred = recognizeMultiLabels(model, xTestLabels, 'LSTM, return sequences')"
      ],
      "execution_count": null,
      "outputs": []
    },
    {
      "cell_type": "markdown",
      "metadata": {
        "id": "exEDzOHizp9x"
      },
      "source": [
        "The model still cannot catch the dependency. Another structure to try - LSTM plus Dense hidden layers:"
      ]
    },
    {
      "cell_type": "code",
      "metadata": {
        "id": "ngZV_4o70ij9"
      },
      "source": [
        "model = Sequential()\n",
        "model.add(Embedding(maxWordsCount, 5, input_length=xLen))\n",
        "model.add(SpatialDropout1D(0.4))\n",
        "model.add(BatchNormalization())\n",
        "model.add(LSTM(4, return_sequences=True))\n",
        "model.add(Dropout(0.5))\n",
        "model.add(BatchNormalization())\n",
        "model.add(Dense(100, activation='relu'))\n",
        "model.add(Dropout(0.5))\n",
        "model.add(BatchNormalization())\n",
        "model.add(Flatten())\n",
        "model.add(Dense(nLabels, activation='softmax'))\n",
        "\n",
        "model.compile(\n",
        "    optimizer = 'rmsprop',\n",
        "    loss='categorical_crossentropy',\n",
        "    metrics=['accuracy']\n",
        ")\n",
        "\n",
        "history = model.fit(\n",
        "    xTrain, yTrain,\n",
        "    epochs=8,\n",
        "    batch_size=512,\n",
        "    validation_data=(xTest, yTest)\n",
        ")\n",
        "\n",
        "plt.plot(history.history['accuracy'], label='correct answers @train')\n",
        "plt.plot(history.history['val_accuracy'], label='correct answers @test')\n",
        "plt.xlabel('epoch')\n",
        "plt.ylabel('correct prediction share')\n",
        "plt.legend()\n",
        "plt.show()\n",
        "\n",
        "xTestLabels, xTestLabelsB = createTestMultiClasses(testWordIndices, xLen, step)\n",
        "pred = recognizeMultiLabels(model, xTestLabels, 'LSTM + Dense')"
      ],
      "execution_count": null,
      "outputs": []
    },
    {
      "cell_type": "markdown",
      "metadata": {
        "id": "b6fmQyih2N01"
      },
      "source": [
        "Keras allows to implement the *bidirectional* LSTM-s, i.e. to train two instead of one LSTM on the input sequence. This allow to increase the amount of input info avaialble to the network."
      ]
    },
    {
      "cell_type": "code",
      "metadata": {
        "id": "IG6_lN1O3SZt"
      },
      "source": [
        "model = Sequential()\n",
        "model.add(Embedding(maxWordsCount, 5, input_length=xLen))\n",
        "model.add(SpatialDropout1D(0.3))\n",
        "model.add(BatchNormalization())\n",
        "model.add(Bidirectional(LSTM(8, return_sequences=True)))\n",
        "model.add(Bidirectional(LSTM(8, return_sequences=True)))\n",
        "model.add(Dropout(0.3))\n",
        "model.add(BatchNormalization())\n",
        "model.add(GRU(16, return_sequences=True, reset_after=True)) # reset gate after the matrices multiplication\n",
        "model.add(GRU(16, reset_after=True))\n",
        "model.add(Dropout(0.3))\n",
        "model.add(BatchNormalization())\n",
        "model.add(Dense(200, activation='relu'))\n",
        "model.add(Dropout(0.3))\n",
        "model.add(BatchNormalization())\n",
        "model.add(Dense(nLabels, activation='softmax'))\n",
        "\n",
        "model.compile(\n",
        "    optimizer = 'rmsprop',\n",
        "    loss='categorical_crossentropy',\n",
        "    metrics=['accuracy']\n",
        ")\n",
        "\n",
        "history = model.fit(\n",
        "    xTrain, yTrain,\n",
        "    epochs=8,\n",
        "    batch_size=512,\n",
        "    validation_data=(xTest, yTest)\n",
        ")\n",
        "\n",
        "plt.plot(history.history['accuracy'], label='correct answers @train')\n",
        "plt.plot(history.history['val_accuracy'], label='correct answers @test')\n",
        "plt.xlabel('epoch')\n",
        "plt.ylabel('correct prediction share')\n",
        "plt.legend()\n",
        "plt.show()\n",
        "\n",
        "xTestLabels, xTestLabelsB = createTestMultiClasses(testWordIndices, xLen, step)\n",
        "pred = recognizeMultiLabels(model, xTestLabels, 'LSTM + Dense')"
      ],
      "execution_count": null,
      "outputs": []
    },
    {
      "cell_type": "markdown",
      "metadata": {
        "id": "OoMQ3swz5Mrr"
      },
      "source": [
        "## CONVOLUTIONAL NN FOR TEXTS"
      ]
    },
    {
      "cell_type": "markdown",
      "metadata": {
        "id": "O_OHTiKpDzUh"
      },
      "source": [
        "Convolutional NN re considered to be quite a fit for the NLP tasks. We'll implement the model with [one-dimensional convolutional layer](https://www.tensorflow.org/api_docs/python/tf/keras/layers/Conv1D) from Keras. \n",
        "\n",
        "An additional layers we use is the *MaxPooling* layer. This helps us to avoid overfitting by reducing the dimensionality by applying max filter to the subregions of the initial representation. For example let's take 2 dimensional input - a 4x4 matrix with a filter 2x2 and the filter's step 2:\n",
        "\n",
        "8|12|3|4\n",
        "-|-|-|-\n",
        "3|11|1|2\n",
        "10|2|3|5\n",
        "82|21|54|47\n",
        "\n",
        "By applying *MaxPooling2D* we get:\n",
        "\n",
        "12|4\n",
        "-|-\n",
        "82|54\n",
        "\n"
      ]
    },
    {
      "cell_type": "code",
      "metadata": {
        "id": "GhycUTEThKpB"
      },
      "source": [
        "model = Sequential()\n",
        "model.add(Embedding(maxWordsCount, 5, input_length=xLen))\n",
        "model.add(SpatialDropout1D(0.2))\n",
        "model.add(BatchNormalization())\n",
        "model.add(Conv1D(\n",
        "    filters = 20, # number of output filters in the convolution\n",
        "    kernel_size = 5, # length of a filter\n",
        "    activation='relu'\n",
        "))\n",
        "model.add(Conv1D(\n",
        "    filters = 20,\n",
        "    kernel_size = 5,\n",
        "    activation='relu'\n",
        "))\n",
        "model.add(MaxPooling1D(2)) # stride 2\n",
        "model.add(Dropout(0.2))\n",
        "model.add(BatchNormalization())\n",
        "model.add(Flatten())\n",
        "model.add(Dense(nLabels, activation='softmax'))\n",
        "\n",
        "model.compile(\n",
        "    optimizer = 'rmsprop',\n",
        "    loss='categorical_crossentropy',\n",
        "    metrics=['accuracy']\n",
        ")\n",
        "\n",
        "history = model.fit(\n",
        "    xTrain, yTrain,\n",
        "    epochs=20,\n",
        "    batch_size=200,\n",
        "    validation_data=(xTest, yTest)\n",
        ")\n",
        "\n",
        "plt.plot(history.history['accuracy'], label='correct answers @train')\n",
        "plt.plot(history.history['val_accuracy'], label='correct answers @test')\n",
        "plt.xlabel('epoch')\n",
        "plt.ylabel('correct prediction share')\n",
        "plt.legend()\n",
        "plt.show()\n",
        "\n",
        "xTestLabels, xTestLabelsB = createTestMultiClasses(testWordIndices, xLen, step)\n",
        "pred = recognizeMultiLabels(model, xTestLabels, 'Convolution1D')"
      ],
      "execution_count": null,
      "outputs": []
    },
    {
      "cell_type": "markdown",
      "metadata": {
        "id": "H9OYl0qLotYu"
      },
      "source": [
        "For this dataset and preprocessing steps the convolutional layers are much better compared to the recurrent ones, but still the score is far from the sufficient value."
      ]
    }
  ]
}