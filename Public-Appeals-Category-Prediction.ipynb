{
  "nbformat": 4,
  "nbformat_minor": 0,
  "metadata": {
    "colab": {
      "name": "public-appeals-category-prediction.ipynb",
      "provenance": [],
      "collapsed_sections": [],
      "machine_shape": "hm"
    },
    "kernelspec": {
      "name": "python3",
      "display_name": "Python 3"
    },
    "language_info": {
      "name": "python"
    },
    "accelerator": "GPU"
  },
  "cells": [
    {
      "cell_type": "code",
      "metadata": {
        "colab": {
          "base_uri": "https://localhost:8080/"
        },
        "id": "uF2DsGBaDNgD",
        "outputId": "bdd126c3-0206-40ce-8b99-2e9bae0691ae"
      },
      "source": [
        "from google.colab import drive\n",
        "drive.mount('/content/d')"
      ],
      "execution_count": null,
      "outputs": [
        {
          "output_type": "stream",
          "text": [
            "Mounted at /content/d\n"
          ],
          "name": "stdout"
        }
      ]
    },
    {
      "cell_type": "markdown",
      "metadata": {
        "id": "AWRlOLl0Fcx0"
      },
      "source": [
        "**Probem set:** In this example we have the database of the public appeals (RUS) devided by categories. The task is to classify the upcoming appeals based on the text within."
      ]
    },
    {
      "cell_type": "code",
      "metadata": {
        "id": "4ePtGcNRCpav"
      },
      "source": [
        "import numpy as np\n",
        "import pandas as pd\n",
        "from sklearn.preprocessing import LabelEncoder\n",
        "from sklearn.model_selection import train_test_split\n",
        "import matplotlib.pyplot as plt\n",
        "\n",
        "from tensorflow.keras.preprocessing.text import Tokenizer\n",
        "from tensorflow.keras import utils\n",
        "from tensorflow.keras.models import Sequential\n",
        "from tensorflow.keras.layers import Dense, Dropout, Embedding, Flatten, BatchNormalization, SpatialDropout1D\n",
        "from tensorflow.keras.preprocessing.sequence import pad_sequences"
      ],
      "execution_count": null,
      "outputs": []
    },
    {
      "cell_type": "code",
      "metadata": {
        "colab": {
          "base_uri": "https://localhost:8080/"
        },
        "id": "gxqow3rVDaF5",
        "outputId": "27a0c844-f974-4a9a-cace-240710e287cc"
      },
      "source": [
        "df = pd.read_csv('d/My Drive/nn/_4/clean_data.csv')\n",
        "df = df.iloc[:, :2]\n",
        "print(df.info())"
      ],
      "execution_count": null,
      "outputs": [
        {
          "output_type": "stream",
          "text": [
            "<class 'pandas.core.frame.DataFrame'>\n",
            "RangeIndex: 10059 entries, 0 to 10058\n",
            "Data columns (total 2 columns):\n",
            " #   Column    Non-Null Count  Dtype \n",
            "---  ------    --------------  ----- \n",
            " 0   text      10059 non-null  object\n",
            " 1   category  8262 non-null   object\n",
            "dtypes: object(2)\n",
            "memory usage: 157.3+ KB\n",
            "None\n"
          ],
          "name": "stdout"
        }
      ]
    },
    {
      "cell_type": "code",
      "metadata": {
        "colab": {
          "base_uri": "https://localhost:8080/"
        },
        "id": "fPwpfxlTGTjD",
        "outputId": "3958ea0a-9548-4771-9105-8bf05319fb78"
      },
      "source": [
        "for cat in df.category.unique():\n",
        "    print(\n",
        "        f'the number of records in category {cat}: '\n",
        "        f'{df[df.category == cat].shape[0]}'\n",
        "    )"
      ],
      "execution_count": null,
      "outputs": [
        {
          "output_type": "stream",
          "text": [
            "the number of records in category Дороги и транспорт: 1411\n",
            "the number of records in category ЖКХ: 2063\n",
            "the number of records in category Строительство: 349\n",
            "the number of records in category Спорт: 246\n",
            "the number of records in category Благо­­устрой­­ство: 1686\n",
            "the number of records in category Образование и наука: 290\n",
            "the number of records in category Культура: 100\n",
            "the number of records in category Демография: 20\n",
            "the number of records in category Социальная сфера: 370\n",
            "the number of records in category Другое: 208\n",
            "the number of records in category Бизнес: 187\n",
            "the number of records in category Здравоохранение: 368\n",
            "the number of records in category Органы власти: 244\n",
            "the number of records in category Экология: 180\n",
            "the number of records in category Правопорядок: 172\n",
            "the number of records in category Труд и занятость населения: 151\n",
            "the number of records in category Борьба с коррупцией: 59\n",
            "the number of records in category Промышленность: 13\n",
            "the number of records in category Сельское хозяйство: 50\n",
            "the number of records in category Земельные отношения: 80\n",
            "the number of records in category Туризм: 15\n",
            "the number of records in category nan: 0\n"
          ],
          "name": "stdout"
        }
      ]
    },
    {
      "cell_type": "markdown",
      "metadata": {
        "id": "unny4RO9Kdf1"
      },
      "source": [
        "**STEP 0:** extract texts and labels\n",
        "\n",
        "Simple step to extract the required data:"
      ]
    },
    {
      "cell_type": "code",
      "metadata": {
        "id": "HDcBGakIKs9K"
      },
      "source": [
        "texts = df.text.values # extract the texts (-> features)\n",
        "labels = list(df.category.values) # -> labels\n",
        "nLabels = df.category.nunique() + 1 # number of categories"
      ],
      "execution_count": null,
      "outputs": []
    },
    {
      "cell_type": "markdown",
      "metadata": {
        "id": "OARPdQBFKZuf"
      },
      "source": [
        "**STEP 1:** convert the text to the *Bags Of Words*\n",
        "\n",
        "We need to split our texts into the single words array and fit the tokenizer based on it. The next step to convert the resulting indices into the boolean matrix alike Bag of Words format. This can be performed with method *sequences_to_matrix*:"
      ]
    },
    {
      "cell_type": "code",
      "metadata": {
        "colab": {
          "base_uri": "https://localhost:8080/"
        },
        "id": "Af0c7XkmHqQT",
        "outputId": "0151b1f3-738b-4c32-e017-3191e5397b8b"
      },
      "source": [
        "# all the symbols to exclude from the processed text\n",
        "symbolsToFilter = '!\"#$%&()*+,-./:;<=>?@[\\\\]^_`{|}~\\t\\n'\n",
        "maxWordsCount = 60000 # max words to be processed by the model\n",
        "\n",
        "tokenizer = Tokenizer(\n",
        "    num_words = maxWordsCount, \n",
        "    filters = symbolsToFilter, \n",
        "    lower = True, # enforce the lower register\n",
        "    split = ' ', # split by space\n",
        "    oov_token = 'unknown', # replaces all out-of-vocabulary words\n",
        "    char_level = False # if True, every charcter is used as token\n",
        ")\n",
        "\n",
        "tokenizer.fit_on_texts(texts)\n",
        "xAll = tokenizer.texts_to_matrix(texts)\n",
        "\n",
        "print(f'the vocabulary size: {len(tokenizer.word_index.items())}')\n",
        "print(xAll.shape)"
      ],
      "execution_count": null,
      "outputs": [
        {
          "output_type": "stream",
          "text": [
            "the vocabulary size: 80594\n",
            "(10059, 60000)\n"
          ],
          "name": "stdout"
        }
      ]
    },
    {
      "cell_type": "markdown",
      "metadata": {
        "id": "kofS7R5oYRtF"
      },
      "source": [
        "The text is processed, now we need to encode the labels. To do that we'll apply [LabelEncoder()](https://scikit-learn.org/stable/modules/generated/sklearn.preprocessing.LabelEncoder.html) from scikit-learn tools and *utils.to_categorical*. The steps will be: \n",
        "\n",
        "text -> integer code -> binary matrix"
      ]
    },
    {
      "cell_type": "code",
      "metadata": {
        "colab": {
          "base_uri": "https://localhost:8080/"
        },
        "id": "IztVfaXQMvqY",
        "outputId": "251ea4c1-f0c2-4675-8f51-2e89f191ba15"
      },
      "source": [
        "encoder = LabelEncoder()\n",
        "encoder.fit(labels)\n",
        "labelsEncoded = encoder.transform(labels)\n",
        "yAll = utils.to_categorical(labelsEncoded, len(set(labels)))\n",
        "\n",
        "print(f'labels encoded shape: {labelsEncoded.shape}')\n",
        "print('the example of the encoded labels:')\n",
        "print(labelsEncoded[:20])\n",
        "print('the example of the binary label form:')\n",
        "print(yAll[0])\n",
        "print(yAll.shape)"
      ],
      "execution_count": null,
      "outputs": [
        {
          "output_type": "stream",
          "text": [
            "labels encoded shape: (10059,)\n",
            "the example of the encoded labels:\n",
            "[ 5  7 18 17  5  5  5  5  2  5 17  5 17 11 18  7  2 10  7  5]\n",
            "the example of the binary label form:\n",
            "[0. 0. 0. 0. 0. 1. 0. 0. 0. 0. 0. 0. 0. 0. 0. 0. 0. 0. 0. 0. 0. 0.]\n",
            "(10059, 22)\n"
          ],
          "name": "stdout"
        }
      ]
    },
    {
      "cell_type": "markdown",
      "metadata": {
        "id": "KjYGLQItcQI1"
      },
      "source": [
        "Now let's prepare the input for the model and prepare the train and test samples:"
      ]
    },
    {
      "cell_type": "code",
      "metadata": {
        "colab": {
          "base_uri": "https://localhost:8080/"
        },
        "id": "KeYH46jLcm46",
        "outputId": "9849fee8-790c-47fa-deaf-2c2648a88a10"
      },
      "source": [
        "xTrain, xVal, yTrain, yVal = train_test_split(xAll, yAll, test_size=0.2)\n",
        "print(f'the shapes are: {xTrain.shape, yTrain.shape, xVal.shape, yVal.shape}')"
      ],
      "execution_count": null,
      "outputs": [
        {
          "output_type": "stream",
          "text": [
            "the shapes are: ((8047, 60000), (8047, 22), (2012, 60000), (2012, 22))\n"
          ],
          "name": "stdout"
        }
      ]
    },
    {
      "cell_type": "markdown",
      "metadata": {
        "id": "AZq3CTXWeuLY"
      },
      "source": [
        "Now let's build the model up. We set 3 dense layers with the dropout. The activation functions are *ReLU (rectified linear unit)* for the input and hidden layers + *softmax* for the output layer. The loss function is *categorical crossentropy*. "
      ]
    },
    {
      "cell_type": "code",
      "metadata": {
        "colab": {
          "base_uri": "https://localhost:8080/",
          "height": 1000
        },
        "id": "hl4cmsQXex-4",
        "outputId": "bc84ae15-bb8e-463b-c13b-4246fb1272ea"
      },
      "source": [
        "modelD = Sequential()\n",
        "modelD.add(Dense(\n",
        "    100, \n",
        "    input_dim = maxWordsCount,\n",
        "    activation = 'relu'\n",
        "))\n",
        "modelD.add(Dropout(0.4))\n",
        "modelD.add(Dense(100, activation='relu'))\n",
        "modelD.add(Dropout(0.4))\n",
        "modelD.add(Dense(100, activation='relu'))\n",
        "modelD.add(Dropout(0.4))\n",
        "modelD.add(Dense(len(set(labels)), activation='softmax'))\n",
        "\n",
        "modelD.compile(\n",
        "    optimizer = 'adam',\n",
        "    loss = 'categorical_crossentropy',\n",
        "    metrics = ['accuracy']\n",
        ")\n",
        "\n",
        "history = modelD.fit(\n",
        "    xTrain, yTrain,\n",
        "    epochs=20,\n",
        "    batch_size=128,\n",
        "    validation_data = (xVal, yVal)\n",
        ")\n",
        "\n",
        "plt.plot(history.history['accuracy'], label='correct answers @train')\n",
        "plt.plot(history.history['val_accuracy'], label='correct answers @test')\n",
        "plt.xlabel('epoch')\n",
        "plt.ylabel('correct prediction share')\n",
        "plt.legend()\n",
        "plt.show()"
      ],
      "execution_count": null,
      "outputs": [
        {
          "output_type": "stream",
          "text": [
            "Epoch 1/20\n",
            "63/63 [==============================] - 3s 22ms/step - loss: 2.4657 - accuracy: 0.2238 - val_loss: 1.9505 - val_accuracy: 0.4374\n",
            "Epoch 2/20\n",
            "63/63 [==============================] - 1s 14ms/step - loss: 1.8114 - accuracy: 0.4251 - val_loss: 1.7003 - val_accuracy: 0.4766\n",
            "Epoch 3/20\n",
            "63/63 [==============================] - 1s 14ms/step - loss: 1.4101 - accuracy: 0.5487 - val_loss: 1.6257 - val_accuracy: 0.5104\n",
            "Epoch 4/20\n",
            "63/63 [==============================] - 1s 14ms/step - loss: 1.0838 - accuracy: 0.6640 - val_loss: 1.6460 - val_accuracy: 0.5422\n",
            "Epoch 5/20\n",
            "63/63 [==============================] - 1s 14ms/step - loss: 0.8525 - accuracy: 0.7457 - val_loss: 1.7635 - val_accuracy: 0.5427\n",
            "Epoch 6/20\n",
            "63/63 [==============================] - 1s 15ms/step - loss: 0.6694 - accuracy: 0.8023 - val_loss: 1.8568 - val_accuracy: 0.5353\n",
            "Epoch 7/20\n",
            "63/63 [==============================] - 1s 14ms/step - loss: 0.5646 - accuracy: 0.8336 - val_loss: 1.9468 - val_accuracy: 0.5507\n",
            "Epoch 8/20\n",
            "63/63 [==============================] - 1s 14ms/step - loss: 0.4501 - accuracy: 0.8664 - val_loss: 2.0909 - val_accuracy: 0.5512\n",
            "Epoch 9/20\n",
            "63/63 [==============================] - 1s 14ms/step - loss: 0.4127 - accuracy: 0.8836 - val_loss: 2.1456 - val_accuracy: 0.5591\n",
            "Epoch 10/20\n",
            "63/63 [==============================] - 1s 14ms/step - loss: 0.3670 - accuracy: 0.8966 - val_loss: 2.2251 - val_accuracy: 0.5522\n",
            "Epoch 11/20\n",
            "63/63 [==============================] - 1s 14ms/step - loss: 0.3144 - accuracy: 0.9110 - val_loss: 2.3175 - val_accuracy: 0.5547\n",
            "Epoch 12/20\n",
            "63/63 [==============================] - 1s 14ms/step - loss: 0.2951 - accuracy: 0.9191 - val_loss: 2.3020 - val_accuracy: 0.5527\n",
            "Epoch 13/20\n",
            "63/63 [==============================] - 1s 14ms/step - loss: 0.2629 - accuracy: 0.9288 - val_loss: 2.4306 - val_accuracy: 0.5517\n",
            "Epoch 14/20\n",
            "63/63 [==============================] - 1s 14ms/step - loss: 0.2548 - accuracy: 0.9313 - val_loss: 2.4187 - val_accuracy: 0.5572\n",
            "Epoch 15/20\n",
            "63/63 [==============================] - 1s 14ms/step - loss: 0.2250 - accuracy: 0.9381 - val_loss: 2.3840 - val_accuracy: 0.5547\n",
            "Epoch 16/20\n",
            "63/63 [==============================] - 1s 14ms/step - loss: 0.2355 - accuracy: 0.9406 - val_loss: 2.4315 - val_accuracy: 0.5457\n",
            "Epoch 17/20\n",
            "63/63 [==============================] - 1s 14ms/step - loss: 0.2059 - accuracy: 0.9443 - val_loss: 2.5325 - val_accuracy: 0.5522\n",
            "Epoch 18/20\n",
            "63/63 [==============================] - 1s 14ms/step - loss: 0.2057 - accuracy: 0.9474 - val_loss: 2.5739 - val_accuracy: 0.5572\n",
            "Epoch 19/20\n",
            "63/63 [==============================] - 1s 15ms/step - loss: 0.1926 - accuracy: 0.9502 - val_loss: 2.5759 - val_accuracy: 0.5562\n",
            "Epoch 20/20\n",
            "63/63 [==============================] - 1s 14ms/step - loss: 0.1634 - accuracy: 0.9569 - val_loss: 2.6990 - val_accuracy: 0.5532\n"
          ],
          "name": "stdout"
        },
        {
          "output_type": "display_data",
          "data": {
            "image/png": "[encoded data removed]",
            "text/plain": [
              "<Figure size 432x288 with 1 Axes>"
            ]
          },
          "metadata": {
            "tags": [],
            "needs_background": "light"
          }
        }
      ]
    },
    {
      "cell_type": "markdown",
      "metadata": {
        "id": "HU5PtLZEu_K3"
      },
      "source": [
        "The score is quite low (54% @ validation). Let's try the *Embedding* layer. To do that:\n",
        "1. transfrom text to sequences with [tf.keras.preprocessing.text.Tokenizer](https://www.tensorflow.org/api_docs/python/tf/keras/preprocessing/text/Tokenizer)\n",
        "2. tranfrom the resulting sequences to **the** 2D arrays with the funtion [tf.keras.preprocessing.sequence.pad_sequences](https://www.tensorflow.org/api_docs/python/tf/keras/preprocessing/sequence/pad_sequences)"
      ]
    },
    {
      "cell_type": "code",
      "metadata": {
        "id": "LtoqrPxQbBsm"
      },
      "source": [
        "maxLen = 400\n",
        "\n",
        "Sequences = tokenizer.texts_to_sequences(texts)\n",
        "npSequences = np.array(Sequences, dtype=object)\n",
        "\n",
        "xTrainE, xValE, yTrainE, yValE = train_test_split(npSequences, yAll, test_size=0.2)\n",
        "\n",
        "xTrainE = pad_sequences(xTrainE, maxlen=maxLen, padding='pre', truncating='pre')\n",
        "xValE = pad_sequences(xValE, maxlen=maxLen, padding='pre', truncating='pre')"
      ],
      "execution_count": null,
      "outputs": []
    },
    {
      "cell_type": "code",
      "metadata": {
        "colab": {
          "base_uri": "https://localhost:8080/"
        },
        "id": "f1BnC7JrfmZy",
        "outputId": "78bdfa18-4447-4eb9-86c4-b85adc8df9b6"
      },
      "source": [
        "print(f'the shapes are: {xTrainE.shape, yTrainE.shape, xValE.shape, yValE.shape}')"
      ],
      "execution_count": null,
      "outputs": [
        {
          "output_type": "stream",
          "text": [
            "the shapes are: ((8047, 400), (8047, 22), (2012, 400), (2012, 22))\n"
          ],
          "name": "stdout"
        }
      ]
    },
    {
      "cell_type": "markdown",
      "metadata": {
        "id": "WSjD1MLK4-W_"
      },
      "source": [
        "Pass the prerocessed data to the model:"
      ]
    },
    {
      "cell_type": "code",
      "metadata": {
        "colab": {
          "base_uri": "https://localhost:8080/",
          "height": 1000
        },
        "id": "F9ktASxjJroe",
        "outputId": "c7c8370c-339a-405c-dfcf-abd53de5ef08"
      },
      "source": [
        "modelE = Sequential()\n",
        "modelE.add(Embedding(maxWordsCount, 50, input_length=maxLen))\n",
        "modelE.add(SpatialDropout1D(0.4))\n",
        "modelE.add(Flatten())\n",
        "modelE.add(BatchNormalization())\n",
        "modelE.add(Dense(64, activation='relu'))\n",
        "modelE.add(Dropout(0.4))\n",
        "modelE.add(BatchNormalization())\n",
        "modelE.add(Dense(len(set(labels)), activation='softmax'))\n",
        "\n",
        "modelE.compile(\n",
        "    optimizer = 'adam',\n",
        "    loss = 'categorical_crossentropy',\n",
        "    metrics = ['accuracy']\n",
        ")\n",
        "\n",
        "history = modelE.fit(\n",
        "    xTrainE, yTrainE,\n",
        "    epochs = 20,\n",
        "    batch_size = 50,\n",
        "    validation_data = (xValE, yValE)\n",
        ")\n",
        "\n",
        "plt.plot(history.history['accuracy'], label='correct answers @train')\n",
        "plt.plot(history.history['val_accuracy'], label='correct answers @test')\n",
        "plt.xlabel('epoch')\n",
        "plt.ylabel('correct prediction share')\n",
        "plt.legend()\n",
        "plt.show()"
      ],
      "execution_count": null,
      "outputs": [
        {
          "output_type": "stream",
          "text": [
            "Epoch 1/20\n",
            "161/161 [==============================] - 5s 26ms/step - loss: 3.2538 - accuracy: 0.1163 - val_loss: 2.6557 - val_accuracy: 0.1928\n",
            "Epoch 2/20\n",
            "161/161 [==============================] - 4s 25ms/step - loss: 2.2862 - accuracy: 0.3335 - val_loss: 2.4086 - val_accuracy: 0.1998\n",
            "Epoch 3/20\n",
            "161/161 [==============================] - 4s 24ms/step - loss: 1.2813 - accuracy: 0.6404 - val_loss: 2.1985 - val_accuracy: 0.2947\n",
            "Epoch 4/20\n",
            "161/161 [==============================] - 4s 24ms/step - loss: 0.7692 - accuracy: 0.7966 - val_loss: 2.0550 - val_accuracy: 0.3912\n",
            "Epoch 5/20\n",
            "161/161 [==============================] - 4s 24ms/step - loss: 0.4866 - accuracy: 0.8811 - val_loss: 2.0220 - val_accuracy: 0.4031\n",
            "Epoch 6/20\n",
            "161/161 [==============================] - 4s 24ms/step - loss: 0.3237 - accuracy: 0.9247 - val_loss: 2.1077 - val_accuracy: 0.4180\n",
            "Epoch 7/20\n",
            "161/161 [==============================] - 4s 24ms/step - loss: 0.2408 - accuracy: 0.9458 - val_loss: 2.1554 - val_accuracy: 0.4125\n",
            "Epoch 8/20\n",
            "161/161 [==============================] - 4s 24ms/step - loss: 0.1917 - accuracy: 0.9573 - val_loss: 2.1696 - val_accuracy: 0.4085\n",
            "Epoch 9/20\n",
            "161/161 [==============================] - 4s 23ms/step - loss: 0.1633 - accuracy: 0.9623 - val_loss: 2.1908 - val_accuracy: 0.4115\n",
            "Epoch 10/20\n",
            "161/161 [==============================] - 4s 24ms/step - loss: 0.1358 - accuracy: 0.9689 - val_loss: 2.2380 - val_accuracy: 0.4031\n",
            "Epoch 11/20\n",
            "161/161 [==============================] - 4s 24ms/step - loss: 0.1257 - accuracy: 0.9714 - val_loss: 2.2345 - val_accuracy: 0.4125\n",
            "Epoch 12/20\n",
            "161/161 [==============================] - 4s 24ms/step - loss: 0.1195 - accuracy: 0.9728 - val_loss: 2.3181 - val_accuracy: 0.4021\n",
            "Epoch 13/20\n",
            "161/161 [==============================] - 4s 24ms/step - loss: 0.1164 - accuracy: 0.9699 - val_loss: 2.3179 - val_accuracy: 0.4066\n",
            "Epoch 14/20\n",
            "161/161 [==============================] - 4s 24ms/step - loss: 0.1074 - accuracy: 0.9720 - val_loss: 2.3860 - val_accuracy: 0.3996\n",
            "Epoch 15/20\n",
            "161/161 [==============================] - 4s 24ms/step - loss: 0.0932 - accuracy: 0.9766 - val_loss: 2.3732 - val_accuracy: 0.4140\n",
            "Epoch 16/20\n",
            "161/161 [==============================] - 4s 24ms/step - loss: 0.0934 - accuracy: 0.9739 - val_loss: 2.4336 - val_accuracy: 0.4046\n",
            "Epoch 17/20\n",
            "161/161 [==============================] - 4s 24ms/step - loss: 0.0905 - accuracy: 0.9749 - val_loss: 2.4211 - val_accuracy: 0.4085\n",
            "Epoch 18/20\n",
            "161/161 [==============================] - 4s 24ms/step - loss: 0.0861 - accuracy: 0.9783 - val_loss: 2.4657 - val_accuracy: 0.4110\n",
            "Epoch 19/20\n",
            "161/161 [==============================] - 4s 23ms/step - loss: 0.0954 - accuracy: 0.9738 - val_loss: 2.4645 - val_accuracy: 0.4076\n",
            "Epoch 20/20\n",
            "161/161 [==============================] - 4s 23ms/step - loss: 0.0878 - accuracy: 0.9763 - val_loss: 2.4844 - val_accuracy: 0.4160\n"
          ],
          "name": "stdout"
        },
        {
          "output_type": "display_data",
          "data": {
            "image/png": "[encoded data removed]",
            "text/plain": [
              "<Figure size 432x288 with 1 Axes>"
            ]
          },
          "metadata": {
            "tags": [],
            "needs_background": "light"
          }
        }
      ]
    },
    {
      "cell_type": "markdown",
      "metadata": {
        "id": "7znyYoPnyO0n"
      },
      "source": [
        "The result with the Embedding layer is even worser. Therefore we can try to filter the text and the raw texts at first:\n",
        "\n",
        "1. Set the minimum and max number of text lines corresponding to each \n",
        "2. Drop the empty lines\n"
      ]
    },
    {
      "cell_type": "code",
      "metadata": {
        "colab": {
          "base_uri": "https://localhost:8080/"
        },
        "id": "i552JE2o4tyR",
        "outputId": "a7faeafe-f5e3-4431-fa2c-1b790d9aad3b"
      },
      "source": [
        "minCountStrings, maxCountStrings = 300, 400\n",
        "df = df.dropna().reset_index()\n",
        "\n",
        "for label in df.category.unique():\n",
        "    initLen = df[df.category == label].shape[0]\n",
        "    if df[df.category == label].shape[0] < minCountStrings:\n",
        "        df = df.drop(df[df.category == label].index)\n",
        "    if df[df.category == label].shape[0] > maxCountStrings:\n",
        "        df = df.drop(df[df.category == label].index[maxCountStrings:])\n",
        "    print(f'Total records of label {label} : {initLen}, collected: {df[df.category == label].shape[0]}')\n",
        "\n",
        "df = df.reset_index()"
      ],
      "execution_count": null,
      "outputs": [
        {
          "output_type": "stream",
          "text": [
            "Total records of label Дороги и транспорт : 1411, collected: 400\n",
            "Total records of label ЖКХ : 2063, collected: 400\n",
            "Total records of label Строительство : 349, collected: 349\n",
            "Total records of label Спорт : 246, collected: 0\n",
            "Total records of label Благо­­устрой­­ство : 1686, collected: 400\n",
            "Total records of label Образование и наука : 290, collected: 0\n",
            "Total records of label Культура : 100, collected: 0\n",
            "Total records of label Демография : 20, collected: 0\n",
            "Total records of label Социальная сфера : 370, collected: 370\n",
            "Total records of label Другое : 208, collected: 0\n",
            "Total records of label Бизнес : 187, collected: 0\n",
            "Total records of label Здравоохранение : 368, collected: 368\n",
            "Total records of label Органы власти : 244, collected: 0\n",
            "Total records of label Экология : 180, collected: 0\n",
            "Total records of label Правопорядок : 172, collected: 0\n",
            "Total records of label Труд и занятость населения : 151, collected: 0\n",
            "Total records of label Борьба с коррупцией : 59, collected: 0\n",
            "Total records of label Промышленность : 13, collected: 0\n",
            "Total records of label Сельское хозяйство : 50, collected: 0\n",
            "Total records of label Земельные отношения : 80, collected: 0\n",
            "Total records of label Туризм : 15, collected: 0\n"
          ],
          "name": "stdout"
        }
      ]
    },
    {
      "cell_type": "code",
      "metadata": {
        "id": "0L_8cCGk9mjJ",
        "colab": {
          "base_uri": "https://localhost:8080/",
          "height": 1000
        },
        "outputId": "c6f0314d-06cc-48b4-c8eb-2b9b468d46b5"
      },
      "source": [
        "texts = df.text.values\n",
        "labels = list(df.category.values)\n",
        "nLabels = df.category.nunique() + 1\n",
        "\n",
        "maxWordsCount = 60000 \n",
        "\n",
        "tokenizer = Tokenizer(\n",
        "    num_words = maxWordsCount, \n",
        "    filters = symbolsToFilter, \n",
        "    lower = True, \n",
        "    split = ' ', \n",
        "    oov_token = 'unknown', \n",
        "    char_level = False \n",
        ")\n",
        "\n",
        "tokenizer.fit_on_texts(texts)\n",
        "xAll = tokenizer.texts_to_matrix(texts)\n",
        "\n",
        "encoder = LabelEncoder()\n",
        "encoder.fit(labels)\n",
        "labelsEncoded = encoder.transform(labels)\n",
        "yAll = utils.to_categorical(labelsEncoded, len(set(labels)))\n",
        "\n",
        "xTrain, xVal, yTrain, yVal = train_test_split(xAll, yAll, test_size=0.2)\n",
        "print(f'the shapes are: {xTrain.shape, yTrain.shape, xVal.shape, yVal.shape}')\n",
        "\n",
        "modelD = Sequential()\n",
        "modelD.add(Dense(\n",
        "    100, \n",
        "    input_dim = maxWordsCount,\n",
        "    activation = 'relu'\n",
        "))\n",
        "modelD.add(Dropout(0.4))\n",
        "modelD.add(Dense(100, activation='relu'))\n",
        "modelD.add(Dropout(0.4))\n",
        "modelD.add(Dense(100, activation='relu'))\n",
        "modelD.add(Dropout(0.4))\n",
        "modelD.add(Dense(len(set(labels)), activation='softmax'))\n",
        "\n",
        "modelD.compile(\n",
        "    optimizer = 'adam',\n",
        "    loss = 'categorical_crossentropy',\n",
        "    metrics = ['accuracy']\n",
        ")\n",
        "\n",
        "history = modelD.fit(\n",
        "    xTrain, yTrain,\n",
        "    epochs=20,\n",
        "    batch_size=128,\n",
        "    validation_data = (xVal, yVal)\n",
        ")\n",
        "\n",
        "plt.plot(history.history['accuracy'], label='correct answers @train')\n",
        "plt.plot(history.history['val_accuracy'], label='correct answers @test')\n",
        "plt.xlabel('epoch')\n",
        "plt.ylabel('correct prediction share')\n",
        "plt.legend()\n",
        "plt.show()"
      ],
      "execution_count": null,
      "outputs": [
        {
          "output_type": "stream",
          "text": [
            "the shapes are: ((1829, 60000), (1829, 6), (458, 60000), (458, 6))\n",
            "Epoch 1/20\n",
            "15/15 [==============================] - 1s 28ms/step - loss: 1.7622 - accuracy: 0.2411 - val_loss: 1.6631 - val_accuracy: 0.4738\n",
            "Epoch 2/20\n",
            "15/15 [==============================] - 0s 15ms/step - loss: 1.5509 - accuracy: 0.4461 - val_loss: 1.3154 - val_accuracy: 0.7052\n",
            "Epoch 3/20\n",
            "15/15 [==============================] - 0s 15ms/step - loss: 1.1768 - accuracy: 0.6178 - val_loss: 0.9953 - val_accuracy: 0.6943\n",
            "Epoch 4/20\n",
            "15/15 [==============================] - 0s 15ms/step - loss: 0.7751 - accuracy: 0.7682 - val_loss: 0.7917 - val_accuracy: 0.7533\n",
            "Epoch 5/20\n",
            "15/15 [==============================] - 0s 14ms/step - loss: 0.4928 - accuracy: 0.8595 - val_loss: 0.7497 - val_accuracy: 0.7576\n",
            "Epoch 6/20\n",
            "15/15 [==============================] - 0s 15ms/step - loss: 0.2813 - accuracy: 0.9317 - val_loss: 0.8038 - val_accuracy: 0.7533\n",
            "Epoch 7/20\n",
            "15/15 [==============================] - 0s 15ms/step - loss: 0.1705 - accuracy: 0.9595 - val_loss: 0.8659 - val_accuracy: 0.7598\n",
            "Epoch 8/20\n",
            "15/15 [==============================] - 0s 14ms/step - loss: 0.1216 - accuracy: 0.9743 - val_loss: 0.8970 - val_accuracy: 0.7751\n",
            "Epoch 9/20\n",
            "15/15 [==============================] - 0s 14ms/step - loss: 0.0895 - accuracy: 0.9841 - val_loss: 0.9839 - val_accuracy: 0.7664\n",
            "Epoch 10/20\n",
            "15/15 [==============================] - 0s 15ms/step - loss: 0.0598 - accuracy: 0.9874 - val_loss: 1.0572 - val_accuracy: 0.7598\n",
            "Epoch 11/20\n",
            "15/15 [==============================] - 0s 15ms/step - loss: 0.0489 - accuracy: 0.9907 - val_loss: 1.0929 - val_accuracy: 0.7686\n",
            "Epoch 12/20\n",
            "15/15 [==============================] - 0s 15ms/step - loss: 0.0364 - accuracy: 0.9973 - val_loss: 1.1329 - val_accuracy: 0.7686\n",
            "Epoch 13/20\n",
            "15/15 [==============================] - 0s 14ms/step - loss: 0.0314 - accuracy: 0.9945 - val_loss: 1.1919 - val_accuracy: 0.7555\n",
            "Epoch 14/20\n",
            "15/15 [==============================] - 0s 14ms/step - loss: 0.0321 - accuracy: 0.9967 - val_loss: 1.2019 - val_accuracy: 0.7555\n",
            "Epoch 15/20\n",
            "15/15 [==============================] - 0s 15ms/step - loss: 0.0266 - accuracy: 0.9967 - val_loss: 1.2726 - val_accuracy: 0.7642\n",
            "Epoch 16/20\n",
            "15/15 [==============================] - 0s 14ms/step - loss: 0.0271 - accuracy: 0.9940 - val_loss: 1.3131 - val_accuracy: 0.7664\n",
            "Epoch 17/20\n",
            "15/15 [==============================] - 0s 15ms/step - loss: 0.0176 - accuracy: 0.9962 - val_loss: 1.2757 - val_accuracy: 0.7598\n",
            "Epoch 18/20\n",
            "15/15 [==============================] - 0s 14ms/step - loss: 0.0224 - accuracy: 0.9923 - val_loss: 1.3073 - val_accuracy: 0.7707\n",
            "Epoch 19/20\n",
            "15/15 [==============================] - 0s 15ms/step - loss: 0.0147 - accuracy: 0.9962 - val_loss: 1.3757 - val_accuracy: 0.7707\n",
            "Epoch 20/20\n",
            "15/15 [==============================] - 0s 14ms/step - loss: 0.0175 - accuracy: 0.9956 - val_loss: 1.3507 - val_accuracy: 0.7773\n"
          ],
          "name": "stdout"
        },
        {
          "output_type": "display_data",
          "data": {
            "image/png": "[encoded data removed]",
            "text/plain": [
              "<Figure size 432x288 with 1 Axes>"
            ]
          },
          "metadata": {
            "tags": [],
            "needs_background": "light"
          }
        }
      ]
    },
    {
      "cell_type": "markdown",
      "metadata": {
        "id": "CiThovTFJF1J"
      },
      "source": [
        "With the raw text filtered we managed to increase the score up to 82%. Let's check if it works for the embedding layer:"
      ]
    },
    {
      "cell_type": "code",
      "metadata": {
        "id": "ZRgPBifbB1xK",
        "colab": {
          "base_uri": "https://localhost:8080/",
          "height": 1000
        },
        "outputId": "5ab0260c-c24d-49c8-884c-02a77595ab1c"
      },
      "source": [
        "npSequences = np.array(tokenizer.texts_to_sequences(texts), dtype=object)\n",
        "xTrainE, xValE, yTrainE, yValE = train_test_split(npSequences, yAll, test_size=0.2)\n",
        "\n",
        "xTrainE = pad_sequences(xTrainE, maxlen=maxLen, padding='pre', truncating='pre')\n",
        "xValE = pad_sequences(xValE, maxlen=maxLen, padding='pre', truncating='pre')\n",
        "\n",
        "print(f'the shapes are: {xTrainE.shape, yTrainE.shape, xValE.shape, yValE.shape}')\n",
        "\n",
        "modelE = Sequential()\n",
        "modelE.add(Embedding(maxWordsCount, 50, input_length=maxLen))\n",
        "modelE.add(SpatialDropout1D(0.4))\n",
        "modelE.add(Flatten())\n",
        "modelE.add(BatchNormalization())\n",
        "modelE.add(Dense(64, activation='relu'))\n",
        "modelE.add(Dropout(0.4))\n",
        "modelE.add(BatchNormalization())\n",
        "modelE.add(Dense(len(set(labels)), activation='softmax'))\n",
        "\n",
        "modelE.compile(\n",
        "    optimizer = 'adam',\n",
        "    loss = 'categorical_crossentropy',\n",
        "    metrics = ['accuracy']\n",
        ")\n",
        "\n",
        "history = modelE.fit(\n",
        "    xTrainE, yTrainE,\n",
        "    epochs = 20,\n",
        "    batch_size = 50,\n",
        "    validation_data = (xValE, yValE)\n",
        ")\n",
        "\n",
        "plt.plot(history.history['accuracy'], label='correct answers @train')\n",
        "plt.plot(history.history['val_accuracy'], label='correct answers @test')\n",
        "plt.xlabel('epoch')\n",
        "plt.ylabel('correct prediction share')\n",
        "plt.legend()\n",
        "plt.show()"
      ],
      "execution_count": null,
      "outputs": [
        {
          "output_type": "stream",
          "text": [
            "the shapes are: ((1829, 400), (1829, 6), (458, 400), (458, 6))\n",
            "Epoch 1/20\n",
            "37/37 [==============================] - 2s 28ms/step - loss: 2.3080 - accuracy: 0.1815 - val_loss: 1.8144 - val_accuracy: 0.1747\n",
            "Epoch 2/20\n",
            "37/37 [==============================] - 1s 23ms/step - loss: 1.8910 - accuracy: 0.2679 - val_loss: 1.8346 - val_accuracy: 0.1747\n",
            "Epoch 3/20\n",
            "37/37 [==============================] - 1s 23ms/step - loss: 1.4895 - accuracy: 0.4084 - val_loss: 1.8463 - val_accuracy: 0.1747\n",
            "Epoch 4/20\n",
            "37/37 [==============================] - 1s 23ms/step - loss: 0.6825 - accuracy: 0.7950 - val_loss: 1.7870 - val_accuracy: 0.2598\n",
            "Epoch 5/20\n",
            "37/37 [==============================] - 1s 24ms/step - loss: 0.3628 - accuracy: 0.9158 - val_loss: 1.7654 - val_accuracy: 0.2664\n",
            "Epoch 6/20\n",
            "37/37 [==============================] - 1s 23ms/step - loss: 0.2032 - accuracy: 0.9716 - val_loss: 1.7448 - val_accuracy: 0.2162\n",
            "Epoch 7/20\n",
            "37/37 [==============================] - 1s 24ms/step - loss: 0.1369 - accuracy: 0.9825 - val_loss: 1.7463 - val_accuracy: 0.2620\n",
            "Epoch 8/20\n",
            "37/37 [==============================] - 1s 24ms/step - loss: 0.1151 - accuracy: 0.9880 - val_loss: 1.7065 - val_accuracy: 0.3188\n",
            "Epoch 9/20\n",
            "37/37 [==============================] - 1s 24ms/step - loss: 0.0933 - accuracy: 0.9891 - val_loss: 1.6635 - val_accuracy: 0.3581\n",
            "Epoch 10/20\n",
            "37/37 [==============================] - 1s 23ms/step - loss: 0.0733 - accuracy: 0.9929 - val_loss: 1.6383 - val_accuracy: 0.3603\n",
            "Epoch 11/20\n",
            "37/37 [==============================] - 1s 24ms/step - loss: 0.0565 - accuracy: 0.9973 - val_loss: 1.6077 - val_accuracy: 0.3843\n",
            "Epoch 12/20\n",
            "37/37 [==============================] - 1s 24ms/step - loss: 0.0482 - accuracy: 0.9967 - val_loss: 1.5624 - val_accuracy: 0.3908\n",
            "Epoch 13/20\n",
            "37/37 [==============================] - 1s 24ms/step - loss: 0.0473 - accuracy: 0.9962 - val_loss: 1.5540 - val_accuracy: 0.3843\n",
            "Epoch 14/20\n",
            "37/37 [==============================] - 1s 24ms/step - loss: 0.0397 - accuracy: 0.9973 - val_loss: 1.5040 - val_accuracy: 0.4083\n",
            "Epoch 15/20\n",
            "37/37 [==============================] - 1s 24ms/step - loss: 0.0386 - accuracy: 0.9962 - val_loss: 1.4964 - val_accuracy: 0.4214\n",
            "Epoch 16/20\n",
            "37/37 [==============================] - 1s 25ms/step - loss: 0.0273 - accuracy: 0.9995 - val_loss: 1.4791 - val_accuracy: 0.4389\n",
            "Epoch 17/20\n",
            "37/37 [==============================] - 1s 23ms/step - loss: 0.0303 - accuracy: 0.9973 - val_loss: 1.4732 - val_accuracy: 0.4127\n",
            "Epoch 18/20\n",
            "37/37 [==============================] - 1s 23ms/step - loss: 0.0237 - accuracy: 0.9989 - val_loss: 1.4826 - val_accuracy: 0.4214\n",
            "Epoch 19/20\n",
            "37/37 [==============================] - 1s 23ms/step - loss: 0.0236 - accuracy: 0.9995 - val_loss: 1.4671 - val_accuracy: 0.4301\n",
            "Epoch 20/20\n",
            "37/37 [==============================] - 1s 24ms/step - loss: 0.0241 - accuracy: 0.9984 - val_loss: 1.4819 - val_accuracy: 0.4410\n"
          ],
          "name": "stdout"
        },
        {
          "output_type": "display_data",
          "data": {
            "image/png": "[encoded data removed]",
            "text/plain": [
              "<Figure size 432x288 with 1 Axes>"
            ]
          },
          "metadata": {
            "tags": [],
            "needs_background": "light"
          }
        }
      ]
    },
    {
      "cell_type": "markdown",
      "metadata": {
        "id": "Mq0gEQ2iJodt"
      },
      "source": [
        "In this case and under this structure the dense model with the embedding layer is still a bad idea, the score is lower than 50%."
      ]
    },
    {
      "cell_type": "markdown",
      "metadata": {
        "id": "BNGuuaEXvXyb"
      },
      "source": [
        "Let's try another approcah - we slice our train sample in the following way:\n",
        "\n",
        "1. Get the array of the word indices (*wordIndices*)\n",
        "2. Cut the sample with the given length (*xLen*)\n",
        "3. Dump it to the container\n",
        "4. Take a step from the begining of the previous sample (*step*)"
      ]
    },
    {
      "cell_type": "code",
      "metadata": {
        "colab": {
          "base_uri": "https://localhost:8080/"
        },
        "id": "iyRs-dmcK4Xm",
        "outputId": "731390cc-2771-476b-97b9-55ac98d7a5ba"
      },
      "source": [
        "df = pd.read_csv('d/My Drive/nn/_4/clean_data.csv')\n",
        "df = df.iloc[:, :2]\n",
        "\n",
        "\n",
        "minCountStrings, maxCountStrings = 300, 400\n",
        "df = df.dropna().reset_index()\n",
        "\n",
        "for label in df.category.unique():\n",
        "    initLen = df[df.category == label].shape[0]\n",
        "    if df[df.category == label].shape[0] < minCountStrings:\n",
        "        df = df.drop(df[df.category == label].index)\n",
        "    if df[df.category == label].shape[0] > maxCountStrings:\n",
        "        df = df.drop(df[df.category == label].index[maxCountStrings:])\n",
        "    print(f'Total records of label {label} : {initLen}, collected: {df[df.category == label].shape[0]}')\n",
        "\n",
        "df = df.reset_index()\n",
        "\n",
        "texts = df.text.values\n",
        "labels = list(df.category.values)\n",
        "nLabels = df.category.nunique() + 1\n",
        "\n",
        "maxWordsCount = 50000\n",
        "\n",
        "symbolsToFilter = '!\"#$%&()*+,-./:;<=>?@[\\\\]^_`{|}~\\t\\n'\n",
        "tokenizer = Tokenizer(\n",
        "    num_words = maxWordsCount,\n",
        "    filters = symbolsToFilter,\n",
        "    lower = True,\n",
        "    split = ' ',\n",
        "    oov_token = 'unknown',\n",
        "    char_level = False\n",
        ")\n",
        "\n",
        "tokenizer.fit_on_texts(texts)\n",
        "\n",
        "encoder = LabelEncoder()\n",
        "encoder.fit(labels)\n",
        "labelsEncoded = encoder.transform(labels)\n",
        "yAll = utils.to_categorical(labelsEncoded, len(set(labels)))"
      ],
      "execution_count": null,
      "outputs": [
        {
          "output_type": "stream",
          "text": [
            "Total records of label Дороги и транспорт : 1411, collected: 400\n",
            "Total records of label ЖКХ : 2063, collected: 400\n",
            "Total records of label Строительство : 349, collected: 349\n",
            "Total records of label Спорт : 246, collected: 0\n",
            "Total records of label Благо­­устрой­­ство : 1686, collected: 400\n",
            "Total records of label Образование и наука : 290, collected: 0\n",
            "Total records of label Культура : 100, collected: 0\n",
            "Total records of label Демография : 20, collected: 0\n",
            "Total records of label Социальная сфера : 370, collected: 370\n",
            "Total records of label Другое : 208, collected: 0\n",
            "Total records of label Бизнес : 187, collected: 0\n",
            "Total records of label Здравоохранение : 368, collected: 368\n",
            "Total records of label Органы власти : 244, collected: 0\n",
            "Total records of label Экология : 180, collected: 0\n",
            "Total records of label Правопорядок : 172, collected: 0\n",
            "Total records of label Труд и занятость населения : 151, collected: 0\n",
            "Total records of label Борьба с коррупцией : 59, collected: 0\n",
            "Total records of label Промышленность : 13, collected: 0\n",
            "Total records of label Сельское хозяйство : 50, collected: 0\n",
            "Total records of label Земельные отношения : 80, collected: 0\n",
            "Total records of label Туризм : 15, collected: 0\n"
          ],
          "name": "stdout"
        }
      ]
    },
    {
      "cell_type": "code",
      "metadata": {
        "id": "WRTINC4cQKo0",
        "colab": {
          "base_uri": "https://localhost:8080/"
        },
        "outputId": "17e956c5-354e-4523-c1f1-1c90fac47a12"
      },
      "source": [
        "def getSetFromIndices(wordIndices, xLen, step):\n",
        "    xSample = []\n",
        "    wordsLen = len(wordIndices)\n",
        "    index = 0\n",
        "\n",
        "    while (index + xLen <= wordsLen):\n",
        "        xSample.append(wordIndices[index : index+ xLen])\n",
        "        index += step\n",
        "\n",
        "    return xSample\n",
        "\n",
        "def createSetsMultiClasses(wordIndices, xLen, step):\n",
        "    nLabels = len(wordIndices)\n",
        "    classesXSamples = []\n",
        "    for wIdx in wordIndices:\n",
        "        # print(wIdx)\n",
        "        classesXSamples.append(getSetFromIndices(wIdx, xLen, step))\n",
        "    \n",
        "    xSamples, ySamples = [], []\n",
        "    for l in range(nLabels):\n",
        "        xL = classesXSamples[l]\n",
        "        for i in range(len(xL)):\n",
        "            xSamples.append(xL[i])\n",
        "            ySamples.append(yAll[l])\n",
        "\n",
        "    xSamples, ySamples = np.array(xSamples), np.array(ySamples)\n",
        "\n",
        "    return (xSamples, ySamples)\n",
        "\n",
        "wordIndices = tokenizer.texts_to_sequences(texts)\n",
        "\n",
        "xTrainI, xValI, yTrain, yVal = train_test_split(wordIndices, yAll, test_size=0.3)\n",
        "\n",
        "xLen = 50\n",
        "step = 10\n",
        "xTrain, yTrain = createSetsMultiClasses(xTrainI, xLen, step)\n",
        "xVal, yVal = createSetsMultiClasses(xValI, xLen, step)\n",
        "\n",
        "print(xTrain.shape, yTrain.shape)\n",
        "print(xVal.shape, yVal.shape)\n",
        "\n",
        "xTrainB = tokenizer.sequences_to_matrix(xTrain.tolist())\n",
        "xValB = tokenizer.sequences_to_matrix(xVal.tolist())\n",
        "\n",
        "print(xTrainB.shape, yTrain.shape)\n",
        "print(xValB.shape, yVal.shape)"
      ],
      "execution_count": null,
      "outputs": [
        {
          "output_type": "stream",
          "text": [
            "(16171, 50) (16171, 6)\n",
            "(7285, 50) (7285, 6)\n",
            "(16171, 50000) (16171, 6)\n",
            "(7285, 50000) (7285, 6)\n"
          ],
          "name": "stdout"
        }
      ]
    },
    {
      "cell_type": "code",
      "metadata": {
        "id": "ziuiWLnrRjw5",
        "colab": {
          "base_uri": "https://localhost:8080/",
          "height": 1000
        },
        "outputId": "d2770ef6-a572-4ee7-d21e-a9f46dced328"
      },
      "source": [
        "modelD = Sequential()\n",
        "modelD.add(Dense(\n",
        "    100, \n",
        "    input_dim = maxWordsCount,\n",
        "    activation = 'relu'\n",
        "))\n",
        "modelD.add(Dropout(0.4))\n",
        "modelD.add(Dense(100, activation='relu'))\n",
        "modelD.add(Dropout(0.3))\n",
        "modelD.add(Dense(100, activation='relu'))\n",
        "modelD.add(Dropout(0.2))\n",
        "modelD.add(Dense(len(set(labels)), activation='softmax'))\n",
        "\n",
        "modelD.compile(\n",
        "    optimizer = 'adam',\n",
        "    loss = 'categorical_crossentropy',\n",
        "    metrics = ['accuracy']\n",
        ")\n",
        "\n",
        "history = modelD.fit(\n",
        "    xTrainB, yTrain,\n",
        "    epochs=20,\n",
        "    batch_size=128,\n",
        "    validation_data = (xValB, yVal)\n",
        ")\n",
        "\n",
        "plt.plot(history.history['accuracy'], label='correct answers @train')\n",
        "plt.plot(history.history['val_accuracy'], label='correct answers @test')\n",
        "plt.xlabel('epoch')\n",
        "plt.ylabel('correct prediction share')\n",
        "plt.legend()\n",
        "plt.show()"
      ],
      "execution_count": null,
      "outputs": [
        {
          "output_type": "stream",
          "text": [
            "Epoch 1/20\n",
            "127/127 [==============================] - 3s 20ms/step - loss: 1.1918 - accuracy: 0.5366 - val_loss: 2.7548 - val_accuracy: 0.2166\n",
            "Epoch 2/20\n",
            "127/127 [==============================] - 2s 14ms/step - loss: 0.1692 - accuracy: 0.9523 - val_loss: 3.4064 - val_accuracy: 0.2048\n",
            "Epoch 3/20\n",
            "127/127 [==============================] - 2s 14ms/step - loss: 0.0698 - accuracy: 0.9789 - val_loss: 3.7043 - val_accuracy: 0.2194\n",
            "Epoch 4/20\n",
            "127/127 [==============================] - 2s 14ms/step - loss: 0.0491 - accuracy: 0.9838 - val_loss: 3.9332 - val_accuracy: 0.2070\n",
            "Epoch 5/20\n",
            "127/127 [==============================] - 2s 14ms/step - loss: 0.0386 - accuracy: 0.9865 - val_loss: 4.1464 - val_accuracy: 0.2056\n",
            "Epoch 6/20\n",
            "127/127 [==============================] - 2s 14ms/step - loss: 0.0370 - accuracy: 0.9866 - val_loss: 4.1794 - val_accuracy: 0.2202\n",
            "Epoch 7/20\n",
            "127/127 [==============================] - 2s 14ms/step - loss: 0.0331 - accuracy: 0.9857 - val_loss: 4.3908 - val_accuracy: 0.2106\n",
            "Epoch 8/20\n",
            "127/127 [==============================] - 2s 14ms/step - loss: 0.0288 - accuracy: 0.9881 - val_loss: 4.4473 - val_accuracy: 0.2165\n",
            "Epoch 9/20\n",
            "127/127 [==============================] - 2s 14ms/step - loss: 0.0274 - accuracy: 0.9878 - val_loss: 4.5896 - val_accuracy: 0.2110\n",
            "Epoch 10/20\n",
            "127/127 [==============================] - 2s 14ms/step - loss: 0.0248 - accuracy: 0.9884 - val_loss: 4.5334 - val_accuracy: 0.2111\n",
            "Epoch 11/20\n",
            "127/127 [==============================] - 2s 14ms/step - loss: 0.0244 - accuracy: 0.9886 - val_loss: 4.7055 - val_accuracy: 0.2172\n",
            "Epoch 12/20\n",
            "127/127 [==============================] - 2s 14ms/step - loss: 0.0253 - accuracy: 0.9882 - val_loss: 4.6795 - val_accuracy: 0.2082\n",
            "Epoch 13/20\n",
            "127/127 [==============================] - 2s 14ms/step - loss: 0.0237 - accuracy: 0.9889 - val_loss: 4.7582 - val_accuracy: 0.2029\n",
            "Epoch 14/20\n",
            "127/127 [==============================] - 2s 14ms/step - loss: 0.0226 - accuracy: 0.9883 - val_loss: 4.8265 - val_accuracy: 0.1981\n",
            "Epoch 15/20\n",
            "127/127 [==============================] - 2s 14ms/step - loss: 0.0247 - accuracy: 0.9881 - val_loss: 4.9394 - val_accuracy: 0.1974\n",
            "Epoch 16/20\n",
            "127/127 [==============================] - 2s 14ms/step - loss: 0.0210 - accuracy: 0.9891 - val_loss: 5.2711 - val_accuracy: 0.2189\n",
            "Epoch 17/20\n",
            "127/127 [==============================] - 2s 14ms/step - loss: 0.0226 - accuracy: 0.9882 - val_loss: 5.3139 - val_accuracy: 0.2069\n",
            "Epoch 18/20\n",
            "127/127 [==============================] - 2s 14ms/step - loss: 0.0229 - accuracy: 0.9886 - val_loss: 5.1293 - val_accuracy: 0.2183\n",
            "Epoch 19/20\n",
            "127/127 [==============================] - 2s 14ms/step - loss: 0.0217 - accuracy: 0.9891 - val_loss: 5.2147 - val_accuracy: 0.2148\n",
            "Epoch 20/20\n",
            "127/127 [==============================] - 2s 14ms/step - loss: 0.0240 - accuracy: 0.9880 - val_loss: 4.9234 - val_accuracy: 0.2172\n"
          ],
          "name": "stdout"
        },
        {
          "output_type": "display_data",
          "data": {
            "image/png": "[encoded data removed]",
            "text/plain": [
              "<Figure size 432x288 with 1 Axes>"
            ]
          },
          "metadata": {
            "tags": [],
            "needs_background": "light"
          }
        }
      ]
    },
    {
      "cell_type": "code",
      "metadata": {
        "id": "ZqADeHd4bxnX",
        "colab": {
          "base_uri": "https://localhost:8080/",
          "height": 35
        },
        "outputId": "8385defe-0422-405a-f2f5-b6eb3a410cd8"
      },
      "source": [
        "def modelPred():\n",
        "    probs = modelD.predict(xValB)\n",
        "    preds = [np.argmax(prob) for prob in probs]\n",
        "    gTrues = [np.argmax(gTrue) for gTrue in yVal]\n",
        "\n",
        "    correctPred = 0\n",
        "    for idx in range(len(preds)):\n",
        "        if preds[idx] == gTrues[idx]:\n",
        "            correctPred +=1\n",
        "        \n",
        "    return f'model score is {round(correctPred / len(preds), 2) * 100} %'\n",
        "\n",
        "modelPred()"
      ],
      "execution_count": null,
      "outputs": [
        {
          "output_type": "execute_result",
          "data": {
            "application/vnd.google.colaboratory.intrinsic+json": {
              "type": "string"
            },
            "text/plain": [
              "'model score is 22.0 %'"
            ]
          },
          "metadata": {
            "tags": []
          },
          "execution_count": 69
        }
      ]
    },
    {
      "cell_type": "markdown",
      "metadata": {
        "id": "XcH-YVdNnt_t"
      },
      "source": [
        "The score is bad. Probably the lower slice length and step will do the trick, but the RAM available to me is not sufficient to perform that."
      ]
    }
  ]
}